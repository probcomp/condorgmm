{
 "cells": [
  {
   "cell_type": "code",
   "execution_count": null,
   "metadata": {},
   "outputs": [],
   "source": [
    "%load_ext autoreload\n",
    "%autoreload 2\n",
    "\n",
    "from condorgmm.data.mp4_vda import MP4DepthAnythingVideo"
   ]
  },
  {
   "cell_type": "code",
   "execution_count": null,
   "metadata": {},
   "outputs": [],
   "source": [
    "# og_video = MP4DepthAnythingVideo(\n",
    "#     \"/home/georgematheos/condorgmm/assets/custom/trees-01.mp4\",\n",
    "#     min_depth_meters=0.5,\n",
    "#     max_depth_meters=2.0,\n",
    "#     encoder=\"vits\",\n",
    "#     camera_type=\"short_focal_length\",\n",
    "# )\n",
    "# video = og_video.downscale(3)"
   ]
  },
  {
   "cell_type": "code",
   "execution_count": null,
   "metadata": {},
   "outputs": [],
   "source": []
  },
  {
   "cell_type": "code",
   "execution_count": null,
   "metadata": {},
   "outputs": [],
   "source": [
    "# video = og_video.crop(200, 600, 400, 1000)"
   ]
  },
  {
   "cell_type": "code",
   "execution_count": null,
   "metadata": {},
   "outputs": [],
   "source": [
    "from condorgmm.data.r3d_dataloader import R3DVideo\n",
    "# og_video = R3DVideo(\n",
    "#     \"/home/georgematheos/condorgmm/assets/custom/folding-01.r3d\",\n",
    "# )\n",
    "# video = og_video\n",
    "\n",
    "import condorgmm\n",
    "from condorgmm.utils.common import get_assets_path\n",
    "import condorgmm.data as data\n",
    "import numpy as np\n",
    "import matplotlib.pyplot as plt\n",
    "from matplotlib.animation import FuncAnimation\n",
    "from IPython.display import HTML\n",
    "fig, ax = plt.subplots()\n",
    "\n",
    "video = data.R3DVideo(get_assets_path() / \"red-blanket.r3d\")\n",
    "frame_idxs = range(700, 840, 1)\n",
    "# video = video.crop(0, 180, 16, 256\n",
    "\n",
    "def update(idx):\n",
    "    ax.clear()\n",
    "    ax.imshow(video[frame_idxs[idx]].rgb)\n",
    "    ax.set_title(f\"Frame {frame_idxs[idx]}\")\n",
    "\n",
    "ani = FuncAnimation(fig, update, len(frame_idxs), repeat=False)\n",
    "# HTML(ani.to_jshtml())"
   ]
  },
  {
   "cell_type": "code",
   "execution_count": null,
   "metadata": {},
   "outputs": [],
   "source": [
    "import matplotlib.pyplot as plt\n",
    "\n",
    "plt.imshow(video[0].rgb)"
   ]
  },
  {
   "cell_type": "code",
   "execution_count": null,
   "metadata": {},
   "outputs": [],
   "source": [
    "plt.imshow(video[0].depth)\n",
    "plt.colorbar()"
   ]
  },
  {
   "cell_type": "code",
   "execution_count": null,
   "metadata": {},
   "outputs": [],
   "source": [
    "from condorgmm.condor.interface.camera_tracking import initialize, update, fast_config\n",
    "import rerun as rr\n",
    "from condorgmm.condor.rerun import log_state\n",
    "from tqdm import tqdm\n",
    "import jax.numpy as jnp\n",
    "import condorgmm\n",
    "\n",
    "condorgmm.rr_init(\"pointcloud-00\")\n",
    "for i in range(10):\n",
    "    rr.set_time_sequence(\"frame\", i)\n",
    "    condorgmm.rr_log_frame(video[i])"
   ]
  },
  {
   "cell_type": "code",
   "execution_count": null,
   "metadata": {},
   "outputs": [],
   "source": []
  },
  {
   "cell_type": "code",
   "execution_count": null,
   "metadata": {},
   "outputs": [],
   "source": [
    "import genjax\n",
    "genjax.pretty()"
   ]
  },
  {
   "cell_type": "code",
   "execution_count": null,
   "metadata": {},
   "outputs": [],
   "source": [
    "from condorgmm.condor.interface.camera_tracking import initialize, update, fast_config\n",
    "import rerun as rr\n",
    "from condorgmm.condor.rerun import log_state\n",
    "from tqdm import tqdm\n",
    "import jax.numpy as jnp\n",
    "import condorgmm\n",
    "\n",
    "\n",
    "def _f(x):\n",
    "    return jnp.array(x, dtype=jnp.float32)\n",
    "\n",
    "hyp = fast_config.base_hypers\n",
    "\n",
    "cfg = fast_config.replace(\n",
    "    base_hypers=hyp,\n",
    "    n_gaussians=384,\n",
    "    tile_size_x=16,\n",
    "    tile_size_y=16,\n",
    "    step_n_sweeps_phase_1=4,\n",
    "    repopulate_depth_nonreturns=False\n",
    ")\n",
    "scenedepth = jnp.sum(video[0].depth) / jnp.sum(video[0].depth > 0)\n",
    "scenepose = condorgmm.Pose(jnp.array([0., 0., scenedepth, 1., 0., 0., 0.], dtype=jnp.float32))"
   ]
  },
  {
   "cell_type": "code",
   "execution_count": null,
   "metadata": {},
   "outputs": [],
   "source": []
  },
  {
   "cell_type": "code",
   "execution_count": null,
   "metadata": {},
   "outputs": [],
   "source": [
    "condorgmm.rr_init(\"blanket-01\")"
   ]
  },
  {
   "cell_type": "code",
   "execution_count": null,
   "metadata": {},
   "outputs": [],
   "source": [
    "saved_states = []\n",
    "started = False\n",
    "for i in tqdm(frame_idxs):\n",
    "    if not started:\n",
    "        _, ccts = initialize(video[i], scenepose, cfg)\n",
    "        started = True\n",
    "    else:\n",
    "        _, ccts = update(video[i], scenepose, ccts, cfg, get_gmm=False)\n",
    "\n",
    "    saved_states.append(ccts)\n",
    "\n",
    "    # if 159 < i and i < 201:\n",
    "    #     saved_states.append(ccts)\n",
    "\n",
    "    rr.set_time_sequence(\"frame\", i)\n",
    "    condorgmm.rr_log_rgb(video[i].rgb)\n",
    "    log_state(ccts.state, ccts.hypers, ellipse_scalar=1.5)#, ellipse_mode=rr.components.FillMode.DenseWireframe, ellipse_scalar=2)\n",
    "    # rr.log(\"depth_img/observation\", rr.DepthImage(video[i].depth))\n",
    "    # rr.log(\"depth_img/inferred\", rr.DepthImage(ccts.state.datapoints.value.xyz[..., 2].reshape(video[i].depth.shape)))"
   ]
  },
  {
   "cell_type": "code",
   "execution_count": null,
   "metadata": {},
   "outputs": [],
   "source": []
  },
  {
   "cell_type": "code",
   "execution_count": null,
   "metadata": {},
   "outputs": [],
   "source": [
    "### For persistent gaussian tracking figures --"
   ]
  },
  {
   "cell_type": "code",
   "execution_count": null,
   "metadata": {},
   "outputs": [],
   "source": [
    "# og_gaussian_indices = [\n",
    "#     24, 323, 205, 229, 269, 210, 357, 28, 67, 221, 247, 148, 381, 127, 200, 130, 378, 23, 195, 358,\n",
    "#     254,\n",
    "#     #\n",
    "#     356, 112, 304, 198, 359, 8,\n",
    "#     316, 263, 238, 27\n",
    "# ]\n",
    "\n",
    "## Final for jeans --\n",
    "# og_gaussian_indices = [\n",
    "#     9, 326, 84, 103, 180, 287, 163, 178, 370, 189, 172, 328, 327, 305, 163, 346, 192, 139, 53, 183, 239, 16, 38, 336, 361, 332, 78, 375, 265, 66, 147, 366, 38\n",
    "# ]\n",
    "\n",
    "## Final for blanket --\n",
    "og_gaussian_indices = [\n",
    "    270, 238, 352, 207, 305, 173, 239, 352, 276, 268\n",
    "]"
   ]
  },
  {
   "cell_type": "code",
   "execution_count": null,
   "metadata": {},
   "outputs": [],
   "source": [
    "from condorgmm.condor.rerun import _ellipsoids\n",
    "\n",
    "gaussian_indices = og_gaussian_indices\n",
    "\n",
    "all_ids = {}\n",
    "for (i, idx) in enumerate(gaussian_indices):\n",
    "    all_ids[idx] = i\n",
    "\n",
    "for (i, st) in enumerate(saved_states[10:]):\n",
    "    t = i + 710\n",
    "    rr.set_time_sequence(\"frame\", t)\n",
    "    \n",
    "    # log_state(st.state, st.hypers)\n",
    "\n",
    "    gaussian_indices = [\n",
    "        i for i in gaussian_indices\n",
    "        if not st.state.gaussians.origin[i] == -1\n",
    "    ]\n",
    "\n",
    "    rr.log(\"selected\", _ellipsoids(\n",
    "        st.state.gaussians[jnp.array(gaussian_indices, dtype=jnp.int32)],\n",
    "        do_color=False,\n",
    "        class_ids=jnp.array([all_ids[i] for i in gaussian_indices]),\n",
    "        std_scalar=2,\n",
    "        fill_mode=rr.components.FillMode.DenseWireframe,\n",
    "    ))"
   ]
  },
  {
   "cell_type": "code",
   "execution_count": null,
   "metadata": {},
   "outputs": [],
   "source": []
  },
  {
   "cell_type": "code",
   "execution_count": null,
   "metadata": {},
   "outputs": [],
   "source": [
    "for i in tqdm(range(len(video))):\n",
    "    rr.set_time_sequence(\"frame\", i)\n",
    "    condorgmm.rr_log_rgb(video[i].rgb)"
   ]
  },
  {
   "cell_type": "markdown",
   "metadata": {},
   "source": []
  },
  {
   "cell_type": "code",
   "execution_count": null,
   "metadata": {},
   "outputs": [],
   "source": []
  },
  {
   "cell_type": "code",
   "execution_count": null,
   "metadata": {},
   "outputs": [],
   "source": []
  },
  {
   "cell_type": "code",
   "execution_count": null,
   "metadata": {},
   "outputs": [],
   "source": []
  }
 ],
 "metadata": {
  "kernelspec": {
   "display_name": "default",
   "language": "python",
   "name": "python3"
  },
  "language_info": {
   "codemirror_mode": {
    "name": "ipython",
    "version": 3
   },
   "file_extension": ".py",
   "mimetype": "text/x-python",
   "name": "python",
   "nbconvert_exporter": "python",
   "pygments_lexer": "ipython3",
   "version": "3.12.10"
  }
 },
 "nbformat": 4,
 "nbformat_minor": 2
}
