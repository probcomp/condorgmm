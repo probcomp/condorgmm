{
 "cells": [
  {
   "cell_type": "code",
   "execution_count": null,
   "metadata": {},
   "outputs": [],
   "source": [
    "%load_ext autoreload\n",
    "%autoreload 2"
   ]
  },
  {
   "cell_type": "code",
   "execution_count": null,
   "metadata": {},
   "outputs": [],
   "source": [
    "import condorgmm\n",
    "import condorgmm.eval.metrics\n",
    "import condorgmm.data\n",
    "from tqdm import tqdm\n",
    "import fire\n",
    "import datetime as dt\n",
    "import importlib\n",
    "import condorgmm.camera_tracking.integrated_camera_tracking\n",
    "import condorgmm.camera_tracking.em_camera_tracking\n",
    "import warp as wp\n",
    "import matplotlib.pyplot as plt"
   ]
  },
  {
   "cell_type": "code",
   "execution_count": null,
   "metadata": {},
   "outputs": [],
   "source": [
    "initialize = condorgmm.camera_tracking.integrated_camera_tracking.initialize\n",
    "update = condorgmm.camera_tracking.integrated_camera_tracking.update\n",
    "rr_log = condorgmm.camera_tracking.integrated_camera_tracking.rr_log"
   ]
  },
  {
   "cell_type": "code",
   "execution_count": null,
   "metadata": {},
   "outputs": [],
   "source": [
    "original_video = condorgmm.data.TUMVideo(\"freiburg1_desk2\")\n",
    "video = original_video.downscale(4)\n",
    "plt.imshow(video[0].rgb / 255)\n",
    "plt.imshow(video[0].depth)"
   ]
  },
  {
   "cell_type": "code",
   "execution_count": null,
   "metadata": {},
   "outputs": [],
   "source": [
    "import condorgmm.warp_gmm as warp_gmm\n",
    "import importlib\n",
    "importlib.reload(condorgmm.warp_gmm.optimize)\n",
    "importlib.reload(condorgmm.warp_gmm)\n",
    "\n",
    "condorgmm.rr_init(\"tum_05\")\n",
    "\n",
    "camera_pose, st, meta0 = initialize(video[0])\n",
    "rr_log(st, video[0], timestep=0)\n",
    "\n",
    "inferred_pose, st, meta1 = update(st, video[0], timestep=1, do_matter_update_override=False, debug=True)\n",
    "rr_log(st, video[0], timestep=1, do_log_frame=True, do_log_condor_state=True)"
   ]
  },
  {
   "cell_type": "code",
   "execution_count": null,
   "metadata": {},
   "outputs": [],
   "source": [
    "frame = video[1]\n",
    "# frame.rgb = frame.rgb + np.random.randn(*frame.rgb.shape)\n",
    "# frame.depth = frame.depth + np.random.randn(*frame.depth.shape) * 0.01\n",
    "\n",
    "inferred_pose, st, meta1 = update(st, frame, timestep=2, do_matter_update_override=False, debug=True)\n",
    "rr_log(st, frame, timestep=2, do_log_frame=True, do_log_condor_state=True)"
   ]
  },
  {
   "cell_type": "code",
   "execution_count": null,
   "metadata": {},
   "outputs": [],
   "source": [
    "inference_log_score_image = st.warp_gmm_state.log_score_image.numpy()\n",
    "\n",
    "print(inference_log_score_image.sum())\n",
    "\n",
    "plt.matshow(inference_log_score_image)\n"
   ]
  },
  {
   "cell_type": "code",
   "execution_count": null,
   "metadata": {},
   "outputs": [],
   "source": [
    "wst = st.warp_gmm_state\n",
    "wst.gmm.camera_posquat = wp.array(frame.camera_pose.astype(np.float32))\n",
    "frame_warp = frame.as_warp()\n",
    "warp_gmm.warp_gmm_forward(frame_warp, wst)\n",
    "gt_log_score_image = wst.log_score_image.numpy()\n",
    "print(gt_log_score_image.sum())\n",
    "plt.matshow(gt_log_score_image)"
   ]
  },
  {
   "cell_type": "code",
   "execution_count": null,
   "metadata": {},
   "outputs": [],
   "source": [
    "plt.matshow(inference_log_score_image - gt_log_score_image, cmap='bwr')\n",
    "plt.colorbar()"
   ]
  },
  {
   "cell_type": "code",
   "execution_count": null,
   "metadata": {},
   "outputs": [],
   "source": [
    "plt.imshow(video[1].rgb / 255)\n"
   ]
  },
  {
   "cell_type": "code",
   "execution_count": null,
   "metadata": {},
   "outputs": [],
   "source": [
    "condorgmm.rr_log_frame(\n",
    "    video[0], camera_pose=video[0].camera_pose, channel=\"GT-FRAME-0\"\n",
    ")\n",
    "condorgmm.rr_log_frame(\n",
    "    video[1], camera_pose=video[1].camera_pose, channel=\"GT-FRAME-1\"\n",
    ")\n",
    "condorgmm.rr_log_frame(\n",
    "    video[4], camera_pose=video[4].camera_pose, channel=\"GT-FRAME-4\"\n",
    ")"
   ]
  },
  {
   "cell_type": "code",
   "execution_count": null,
   "metadata": {},
   "outputs": [],
   "source": []
  },
  {
   "cell_type": "code",
   "execution_count": null,
   "metadata": {},
   "outputs": [],
   "source": []
  },
  {
   "cell_type": "code",
   "execution_count": null,
   "metadata": {},
   "outputs": [],
   "source": [
    "import condorgmm.warp_gmm as warp_gmm\n",
    "import importlib\n",
    "importlib.reload(condorgmm.warp_gmm.optimize)\n",
    "importlib.reload(condorgmm.warp_gmm)\n",
    "\n",
    "condorgmm.rr_init(\"tum_06\")\n",
    "\n",
    "camera_pose, st, meta0 = initialize(video[0])\n",
    "rr_log(st, video[0], timestep=0)\n",
    "\n",
    "inferred_pose, st, meta1 = update(st, video[0], timestep=1, do_matter_update_override=False, debug=True)\n",
    "rr_log(st, video[0], timestep=1, do_log_frame=True, do_log_condor_state=True)\n",
    "\n",
    "for t in tqdm(range(1, 12)):\n",
    "    camera_pose, st, meta = update(st, video[t-1], timestep=t, do_matter_update_override=False, debug=True)\n",
    "    rr_log(st, video[t-1], timestep=t, do_log_frame=True, do_log_condor_state=True)"
   ]
  },
  {
   "cell_type": "code",
   "execution_count": null,
   "metadata": {},
   "outputs": [],
   "source": []
  },
  {
   "cell_type": "code",
   "execution_count": null,
   "metadata": {},
   "outputs": [],
   "source": []
  },
  {
   "cell_type": "code",
   "execution_count": null,
   "metadata": {},
   "outputs": [],
   "source": []
  },
  {
   "cell_type": "code",
   "execution_count": null,
   "metadata": {},
   "outputs": [],
   "source": [
    "condorgmm.rr_init(\"tum_04\")"
   ]
  },
  {
   "cell_type": "code",
   "execution_count": null,
   "metadata": {},
   "outputs": [],
   "source": [
    "import condorgmm.warp_gmm as warp_gmm\n",
    "import importlib\n",
    "importlib.reload(condorgmm.warp_gmm.optimize)\n",
    "importlib.reload(condorgmm.warp_gmm)\n",
    "\n",
    "camera_pose, st, meta0 = initialize(video[0])\n",
    "rr_log(st, video[0], timestep=0, do_log_frame=True, do_log_condor_state=True)\n",
    "\n",
    "print(\"Initialized.\")\n",
    "\n",
    "log = [meta0]\n",
    "for t in tqdm(range(1, 5)):\n",
    "    camera_pose, st, meta = update(st, video[t], timestep=t, do_matter_update_override=False, debug=True)\n",
    "    rr_log(st, video[t], timestep=t, do_log_frame=True, do_log_condor_state=True)\n",
    "    log.append(meta)"
   ]
  },
  {
   "cell_type": "code",
   "execution_count": null,
   "metadata": {},
   "outputs": [],
   "source": [
    "plt.plot(log[1]['optimization_data']['likelihoods'][80:])\n",
    "# print(log[3]['optimization_data']['likelihoods'][-5:])"
   ]
  },
  {
   "cell_type": "code",
   "execution_count": null,
   "metadata": {},
   "outputs": [],
   "source": [
    "import numpy as np\n",
    "print(np.max(log[1]['optimization_data']['likelihoods'][400:]))"
   ]
  },
  {
   "cell_type": "code",
   "execution_count": null,
   "metadata": {},
   "outputs": [],
   "source": [
    "import rerun as rr\n",
    "\n",
    "for (t, posquat) in enumerate(log[3]['optimization_data']['params']):\n",
    "    rr.set_time_sequence(\"ADAM2\", t)\n",
    "    condorgmm.rr_log_posquat(posquat[0])\n",
    "    condorgmm.rr_log_posquat(video[4].camera_pose, channel=\"gt\")"
   ]
  },
  {
   "cell_type": "code",
   "execution_count": null,
   "metadata": {},
   "outputs": [],
   "source": [
    "# t = 1\n",
    "# camera_pose, st, meta = update(st, video[t], timestep=t, do_matter_update_override=False, debug=True)"
   ]
  },
  {
   "cell_type": "code",
   "execution_count": null,
   "metadata": {},
   "outputs": [],
   "source": [
    "import condorgmm.warp_gmm as warp_gmm\n",
    "import importlib\n",
    "importlib.reload(condorgmm.warp_gmm.optimize)\n",
    "importlib.reload(condorgmm.warp_gmm)\n",
    "\n",
    "\n",
    "warp_gmm.warp_gmcamera_pose, st, _ = initialize(video[0])\n",
    "warp_gmm.warp_gmm_forward(video[0].as_warp(), st.warp_gmm_state)\n",
    "print(st.warp_gmm_state.log_score_image.numpy().sum())\n",
    "plt.matshow(st.warp_gmm_state.log_score_image.numpy())\n",
    "\n",
    "t = 0\n",
    "import condorgmm.warp_gmm as warp_gmm\n",
    "learning_rates = wp.array(\n",
    "    [0.002, 0.002, 0.002, 0.0004, 0.0004, 0.0004, 0.0004], dtype=wp.float32\n",
    ")\n",
    "frame = video[t]\n",
    "frame_warp = frame.as_warp()\n",
    "st.warp_gmm_state.gmm.camera_posquat.requires_grad = True\n",
    "optimization_data = warp_gmm.optimize_params(\n",
    "    [st.warp_gmm_state.gmm.camera_posquat],\n",
    "    frame_warp,\n",
    "    st.warp_gmm_state,\n",
    "    num_timesteps=4,\n",
    "    lr=learning_rates,\n",
    "    storing_stuff=True,\n",
    ")\n",
    "print(\"after\")\n",
    "print(st.warp_gmm_state.log_score_image.numpy().sum())\n",
    "warp_gmm.warp_gmm_forward(frame_warp, st.warp_gmm_state)\n",
    "print(st.warp_gmm_state.log_score_image.numpy().sum())\n",
    "print(optimization_data[\"likelihoods\"][-10:])\n",
    "print(optimization_data[\"params\"][-0:])"
   ]
  },
  {
   "cell_type": "code",
   "execution_count": null,
   "metadata": {},
   "outputs": [],
   "source": []
  },
  {
   "cell_type": "code",
   "execution_count": null,
   "metadata": {},
   "outputs": [],
   "source": [
    "plt.matshow(warp_gmm_state.log_score_image.numpy())"
   ]
  },
  {
   "cell_type": "code",
   "execution_count": null,
   "metadata": {},
   "outputs": [],
   "source": []
  },
  {
   "cell_type": "code",
   "execution_count": null,
   "metadata": {},
   "outputs": [],
   "source": [
    "log = []\n",
    "for t in tqdm(range(1, 5)):\n",
    "    camera_pose, st, meta = update(st, video[t], timestep=t, do_matter_update_override=False, debug=True)\n",
    "    rr_log(st, video[t], timestep=t, do_log_frame=True, do_log_condor_state=True)\n",
    "    log.append(meta)"
   ]
  },
  {
   "cell_type": "code",
   "execution_count": null,
   "metadata": {},
   "outputs": [],
   "source": [
    "plt.plot(log[3]['optimization_data']['likelihoods'][-5:])\n",
    "print(log[3]['optimization_data']['likelihoods'][-5:])"
   ]
  },
  {
   "cell_type": "code",
   "execution_count": null,
   "metadata": {},
   "outputs": [],
   "source": [
    "import condorgmm.warp_gmm as warp_gmm\n",
    "warp_gmm.warp_gmm_forward(video[4].as_warp(), st.warp_gmm_state)\n",
    "st.warp_gmm_state.log_score_image.numpy().sum()\n",
    "\n"
   ]
  },
  {
   "cell_type": "code",
   "execution_count": null,
   "metadata": {},
   "outputs": [],
   "source": [
    "import rerun as rr\n",
    "\n",
    "for (t, posquat) in enumerate(log[1]['optimization_data']['params']):\n",
    "    rr.set_time_sequence(\"ADAM2\", t)\n",
    "    condorgmm.rr_log_posquat(posquat[0])\n",
    "    condorgmm.rr_log_posquat(video[1].camera_pose, channel=\"gt\")"
   ]
  },
  {
   "cell_type": "code",
   "execution_count": null,
   "metadata": {},
   "outputs": [],
   "source": [
    "log[3]['optimization_data']['params'][-1]"
   ]
  },
  {
   "cell_type": "code",
   "execution_count": null,
   "metadata": {},
   "outputs": [],
   "source": [
    "import numpy as np\n",
    "# st.warp_gmm_state.gmm.camera_posquat = wp.array(np.array(video[4].camera_pose, dtype=np.float32))\n",
    "st.warp_gmm_state.gmm.camera_posquat = wp.array(np.array(log[3]['optimization_data']['params'][-1][0], dtype=np.float32))"
   ]
  },
  {
   "cell_type": "code",
   "execution_count": null,
   "metadata": {},
   "outputs": [],
   "source": []
  },
  {
   "cell_type": "code",
   "execution_count": null,
   "metadata": {},
   "outputs": [],
   "source": []
  },
  {
   "cell_type": "code",
   "execution_count": null,
   "metadata": {},
   "outputs": [],
   "source": [
    "# gt:  348548.4\n",
    "# inf: 321617.47"
   ]
  },
  {
   "cell_type": "code",
   "execution_count": null,
   "metadata": {},
   "outputs": [],
   "source": [
    "condorgmm.utils.common.rerun.rr_log_frame(\n",
    "    video[4], \"observed_data_v2\", camera_pose=condorgmm.Pose(video[4].camera_pose)\n",
    ")"
   ]
  },
  {
   "cell_type": "code",
   "execution_count": null,
   "metadata": {},
   "outputs": [],
   "source": []
  }
 ],
 "metadata": {
  "kernelspec": {
   "display_name": "default",
   "language": "python",
   "name": "python3"
  },
  "language_info": {
   "codemirror_mode": {
    "name": "ipython",
    "version": 3
   },
   "file_extension": ".py",
   "mimetype": "text/x-python",
   "name": "python",
   "nbconvert_exporter": "python",
   "pygments_lexer": "ipython3",
   "version": "3.12.9"
  }
 },
 "nbformat": 4,
 "nbformat_minor": 2
}
