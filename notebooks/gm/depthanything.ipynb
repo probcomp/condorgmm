{
 "cells": [
  {
   "cell_type": "code",
   "execution_count": null,
   "metadata": {},
   "outputs": [],
   "source": [
    "%load_ext autoreload\n",
    "%autoreload 2\n",
    "\n",
    "from condorgmm.data.mp4_vda import MP4DepthAnythingVideo"
   ]
  },
  {
   "cell_type": "code",
   "execution_count": null,
   "metadata": {},
   "outputs": [],
   "source": [
    "og_video = MP4DepthAnythingVideo(\n",
    "    \"/home/georgematheos/condorgmm/assets/custom/room_spin.MOV\",\n",
    "    min_depth_meters=1.25,\n",
    "    max_depth_meters=3.0,\n",
    "    encoder=\"vitl\",\n",
    ")\n",
    "video = og_video.downscale(6)"
   ]
  },
  {
   "cell_type": "code",
   "execution_count": null,
   "metadata": {},
   "outputs": [],
   "source": [
    "import matplotlib.pyplot as plt\n",
    "\n",
    "plt.imshow(video[0].rgb)"
   ]
  },
  {
   "cell_type": "code",
   "execution_count": null,
   "metadata": {},
   "outputs": [],
   "source": [
    "plt.imshow(video[0].depth)\n",
    "plt.colorbar()"
   ]
  },
  {
   "cell_type": "code",
   "execution_count": null,
   "metadata": {},
   "outputs": [],
   "source": [
    "import genjax\n",
    "genjax.pretty()"
   ]
  },
  {
   "cell_type": "code",
   "execution_count": null,
   "metadata": {},
   "outputs": [],
   "source": [
    "from condorgmm.condor.interface.camera_tracking import initialize, update, fast_config\n",
    "import rerun as rr\n",
    "from condorgmm.condor.rerun import log_state\n",
    "from tqdm import tqdm\n",
    "import jax.numpy as jnp\n",
    "import condorgmm\n",
    "\n",
    "\n",
    "def _f(x):\n",
    "    return jnp.array(x, dtype=jnp.float32)\n",
    "\n",
    "hyp = fast_config.base_hypers\n",
    "\n",
    "cfg = fast_config.replace(\n",
    "    base_hypers=hyp,\n",
    "    n_gaussians=300,\n",
    "    tile_size_x=8,\n",
    "    tile_size_y=8,\n",
    "    step_n_sweeps_phase_1=4,\n",
    "    repopulate_depth_nonreturns=False\n",
    ")\n",
    "scenedepth = jnp.sum(video[0].depth) / jnp.sum(video[0].depth > 0)\n",
    "scenepose = condorgmm.Pose(jnp.array([0., 0., scenedepth, 1., 0., 0., 0.], dtype=jnp.float32))"
   ]
  },
  {
   "cell_type": "code",
   "execution_count": null,
   "metadata": {},
   "outputs": [],
   "source": [
    "condorgmm.rr_init(\"mp4-test-00\")"
   ]
  },
  {
   "cell_type": "code",
   "execution_count": null,
   "metadata": {},
   "outputs": [],
   "source": [
    "\n",
    "for i in tqdm(range(10)):\n",
    "    if i == 0:\n",
    "        _, ccts = initialize(video[i], scenepose, cfg)\n",
    "    else:\n",
    "        _, ccts = update(video[i], scenepose, ccts, cfg, get_gmm=False)\n",
    "\n",
    "    rr.set_time_sequence(\"frame\", i)\n",
    "    log_state(ccts.state, ccts.hypers)\n",
    "    rr.log(\"depth_img/observation\", rr.DepthImage(video[i].depth))\n",
    "    rr.log(\"depth_img/inferred\", rr.DepthImage(ccts.state.datapoints.value.xyz[..., 2].reshape(video[i].depth.shape)))"
   ]
  },
  {
   "cell_type": "code",
   "execution_count": null,
   "metadata": {},
   "outputs": [],
   "source": []
  },
  {
   "cell_type": "code",
   "execution_count": null,
   "metadata": {},
   "outputs": [],
   "source": []
  },
  {
   "cell_type": "code",
   "execution_count": null,
   "metadata": {},
   "outputs": [],
   "source": []
  },
  {
   "cell_type": "code",
   "execution_count": null,
   "metadata": {},
   "outputs": [],
   "source": []
  }
 ],
 "metadata": {
  "kernelspec": {
   "display_name": "default",
   "language": "python",
   "name": "python3"
  },
  "language_info": {
   "codemirror_mode": {
    "name": "ipython",
    "version": 3
   },
   "file_extension": ".py",
   "mimetype": "text/x-python",
   "name": "python",
   "nbconvert_exporter": "python",
   "pygments_lexer": "ipython3",
   "version": "3.12.10"
  }
 },
 "nbformat": 4,
 "nbformat_minor": 2
}
