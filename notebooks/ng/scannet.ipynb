{
 "cells": [
  {
   "cell_type": "code",
   "execution_count": null,
   "metadata": {},
   "outputs": [],
   "source": [
    "from condorgmm import Pose\n",
    "from condorgmm.data import Frame\n",
    "import condorgmm.warp_gmm as warp_gmm\n",
    "import warp as wp\n",
    "import condorgmm\n",
    "import numpy as np\n",
    "import condorgmm\n",
    "import matplotlib.pyplot as plt"
   ]
  },
  {
   "cell_type": "code",
   "execution_count": null,
   "metadata": {},
   "outputs": [],
   "source": []
  },
  {
   "cell_type": "code",
   "execution_count": null,
   "metadata": {},
   "outputs": [],
   "source": [
    "condorgmm.rr_init(\"scannet\")\n",
    "video = condorgmm.data.ScanNetVideo(0)\n",
    "\n",
    "learning_rates = wp.array(\n",
    "    [0.001, 0.001, 0.001, 0.0004, 0.0004, 0.0004, 0.0004], dtype=wp.float32\n",
    ")\n",
    "\n",
    "frame = video[0]\n",
    "STRIDE = 25\n",
    "frame_warp = frame.as_warp()\n",
    "camera_pose = condorgmm.Pose(frame.camera_pose)\n",
    "\n",
    "hyperparams = warp_gmm.state.Hyperparams(\n",
    "    outlier_probability=0.99,\n",
    "    outlier_volume=1e4,\n",
    "    window_half_width=7,\n",
    ")\n",
    "\n",
    "\n",
    "spatial_means = condorgmm.xyz_from_depth_image(\n",
    "    frame.depth.astype(np.float32), *frame.intrinsics\n",
    ")[::STRIDE, ::STRIDE].reshape(-1, 3)\n",
    "spatial_means = camera_pose.apply(spatial_means).astype(np.float32)\n",
    "rgb_means = frame.rgb[::STRIDE, ::STRIDE].reshape(-1, 3).astype(np.float32)\n",
    "\n",
    "gmm = warp_gmm.gmm_warp_from_numpy(spatial_means, rgb_means)\n",
    "gmm.camera_posquat = wp.array(camera_pose.posquat.astype(np.float32))\n",
    "\n",
    "warp_gmm_state = warp_gmm.initialize_state(gmm=gmm, frame=frame, hyperparams=hyperparams)\n",
    "\n",
    "warp_gmm.warp_gmm_forward(frame_warp, warp_gmm_state)\n",
    "\n",
    "for _ in range(5):\n",
    "    warp_gmm.warp_gmm_EM_step(frame_warp, warp_gmm_state)\n",
    "\n",
    "warp_gmm.rr_log_gmm_warp(warp_gmm_state.gmm)\n",
    "assert warp_gmm_state.gmm.is_valid()\n",
    "\n",
    "two_prev_camera_poses = (\n",
    "    warp_gmm_state.gmm.camera_posquat.numpy(),\n",
    "    warp_gmm_state.gmm.camera_posquat.numpy(),\n",
    ")\n",
    "state = (\n",
    "    warp_gmm_state,\n",
    "    two_prev_camera_poses,\n",
    ")\n",
    "\n",
    "warp_gmm_state.gmm.camera_posquat.requires_grad = True\n",
    "import importlib\n",
    "importlib.reload(condorgmm.warp_gmm.optimize)\n",
    "importlib.reload(condorgmm.warp_gmm)"
   ]
  },
  {
   "cell_type": "code",
   "execution_count": null,
   "metadata": {},
   "outputs": [],
   "source": [
    "inferred_camera_poses = {}\n",
    "for T in range(len(video)):\n",
    "    condorgmm.rr_set_time(T)\n",
    "    frame = video[T]\n",
    "    frame_warp = frame.as_warp()\n",
    "\n",
    "    warp_gmm_state.gmm.camera_posquat.requires_grad = True\n",
    "    results = warp_gmm.optimize_params(\n",
    "        [warp_gmm_state.gmm.camera_posquat],\n",
    "        frame_warp,\n",
    "        warp_gmm_state,\n",
    "        100,\n",
    "        learning_rates,\n",
    "        storing_stuff=True,\n",
    "    )\n",
    "\n",
    "    inferred_log_score_image = warp_gmm_state.log_score_image.numpy()\n",
    "    inferred_log_score_image_sum = inferred_log_score_image.sum()\n",
    "    # warp_gmm.rr_log_gmm_warp(warp_gmm_state.gmm)\n",
    "    condorgmm.rr_log_posquat(warp_gmm_state.gmm.camera_posquat.numpy(), \"inferred_pose\")\n",
    "    condorgmm.rr_log_posquat(video[T].camera_pose, \"gt_pose\")\n",
    "\n",
    "    inferred_camera_poses[T] = warp_gmm_state.gmm.camera_posquat.numpy()\n",
    "\n",
    "    if T > 0 and T % 5 == 0:\n",
    "        camera_pose = condorgmm.Pose(warp_gmm_state.gmm.camera_posquat.numpy())\n",
    "        spatial_means = condorgmm.xyz_from_depth_image(\n",
    "            frame.depth.astype(np.float32), *frame.intrinsics\n",
    "        )[::STRIDE, ::STRIDE].reshape(-1, 3)\n",
    "        spatial_means = camera_pose.apply(spatial_means).astype(np.float32)\n",
    "        rgb_means = frame.rgb[::STRIDE, ::STRIDE].reshape(-1, 3).astype(np.float32)\n",
    "\n",
    "        gmm = warp_gmm.gmm_warp_from_numpy(spatial_means, rgb_means)\n",
    "        gmm.camera_posquat = wp.array(camera_pose.posquat.astype(np.float32))\n",
    "        warp_gmm_state.gmm = gmm\n",
    "\n",
    "        for _ in range(5):\n",
    "            warp_gmm.warp_gmm_EM_step(frame_warp, warp_gmm_state)\n"
   ]
  },
  {
   "cell_type": "code",
   "execution_count": null,
   "metadata": {},
   "outputs": [],
   "source": [
    "plt.plot(results[\"likelihoods\"])"
   ]
  },
  {
   "cell_type": "code",
   "execution_count": null,
   "metadata": {},
   "outputs": [],
   "source": [
    "\n",
    "T = 2\n",
    "frame = video[T]\n",
    "frame_warp = frame.as_warp()\n",
    "\n",
    "warp_gmm_state.gmm.camera_posquat.requires_grad = True\n",
    "results = warp_gmm.optimize_params(\n",
    "    [warp_gmm_state.gmm.camera_posquat],\n",
    "    frame_warp,\n",
    "    warp_gmm_state,\n",
    "    500,\n",
    "    learning_rates,\n",
    "    storing_stuff=True,\n",
    ")\n",
    "print(results[\"likelihoods\"][-20:])\n",
    "plt.plot(results[\"likelihoods\"])\n",
    "\n",
    "inferred_log_score_image = warp_gmm_state.log_score_image.numpy()\n",
    "inferred_log_score_image_sum = inferred_log_score_image.sum()\n",
    "# warp_gmm.rr_log_gmm_warp(warp_gmm_state.gmm)\n",
    "condorgmm.rr_log_posquat(video[T].camera_pose, \"gt_pose\")\n",
    "\n",
    "warp_gmm_state.gmm.camera_posquat = wp.array(video[T].camera_pose.astype(np.float32))\n",
    "warp_gmm.warp_gmm_forward(frame_warp, warp_gmm_state)\n",
    "gt_log_score_image = warp_gmm_state.log_score_image.numpy()\n",
    "gt_log_score_image_sum = gt_log_score_image.sum()\n",
    "print(\"Inferred pose log score: \", inferred_log_score_image_sum)\n",
    "print(\"GT pose log score: \", gt_log_score_image_sum)\n",
    "plt.matshow(gt_log_score_image - inferred_log_score_image,cmap=\"bwr\")\n",
    "plt.colorbar()\n",
    "plt.title(\"GT - Inferred\")\n"
   ]
  },
  {
   "cell_type": "code",
   "execution_count": null,
   "metadata": {},
   "outputs": [],
   "source": [
    "plt.matshow(np.abs(gt_log_score_image - inferred_log_score_image) > 1e-3)"
   ]
  },
  {
   "cell_type": "code",
   "execution_count": null,
   "metadata": {},
   "outputs": [],
   "source": [
    "T = 0\n",
    "condorgmm.rr_log_frame(video[T], camera_pose=video[T].camera_pose,channel=f\"{T}\")"
   ]
  },
  {
   "cell_type": "code",
   "execution_count": null,
   "metadata": {},
   "outputs": [],
   "source": [
    "T  = 10\n",
    "condorgmm.rr_log_frame(video[T], camera_pose=video[T].camera_pose,channel=f\"{T}\")"
   ]
  },
  {
   "cell_type": "code",
   "execution_count": null,
   "metadata": {},
   "outputs": [],
   "source": []
  }
 ],
 "metadata": {
  "kernelspec": {
   "display_name": "default",
   "language": "python",
   "name": "python3"
  },
  "language_info": {
   "codemirror_mode": {
    "name": "ipython",
    "version": 3
   },
   "file_extension": ".py",
   "mimetype": "text/x-python",
   "name": "python",
   "nbconvert_exporter": "python",
   "pygments_lexer": "ipython3",
   "version": "3.12.9"
  }
 },
 "nbformat": 4,
 "nbformat_minor": 2
}
