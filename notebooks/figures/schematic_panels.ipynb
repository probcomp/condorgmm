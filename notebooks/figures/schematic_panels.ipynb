{
 "cells": [
  {
   "cell_type": "code",
   "execution_count": null,
   "metadata": {},
   "outputs": [],
   "source": [
    "%load_ext autoreload\n",
    "%autoreload 2"
   ]
  },
  {
   "cell_type": "code",
   "execution_count": null,
   "metadata": {},
   "outputs": [],
   "source": [
    "import condorgmm\n",
    "import condorgmm.eval.metrics\n",
    "import condorgmm.data\n",
    "from tqdm import tqdm\n",
    "import fire\n",
    "import datetime as dt\n",
    "import importlib\n",
    "import condorgmm.camera_tracking.integrated_camera_tracking\n",
    "import condorgmm.camera_tracking.em_camera_tracking\n",
    "import warp as wp\n",
    "import rerun as rr"
   ]
  },
  {
   "cell_type": "code",
   "execution_count": null,
   "metadata": {},
   "outputs": [],
   "source": [
    "dataset = \"tum\"\n",
    "max_T = 10\n",
    "downscale = 4\n",
    "\n",
    "initialize = condorgmm.camera_tracking.integrated_camera_tracking.initialize\n",
    "update = condorgmm.camera_tracking.integrated_camera_tracking.update\n",
    "rr_log = condorgmm.camera_tracking.integrated_camera_tracking.rr_log\n",
    "\n",
    "if dataset == \"replica\":\n",
    "    DatasetVideoType = condorgmm.data.ReplicaVideo\n",
    "elif dataset == \"tum\":\n",
    "    DatasetVideoType = condorgmm.data.TUMVideo\n",
    "elif dataset == \"scannet\":\n",
    "    DatasetVideoType = condorgmm.data.ScanNetVideo\n",
    "else:\n",
    "    raise ValueError(f\"Invalid dataset: {dataset}\")\n",
    "\n",
    "scene_names = DatasetVideoType.SCENE_NAMES\n",
    "\n",
    "print(f\"Scene names: {scene_names}\")"
   ]
  },
  {
   "cell_type": "code",
   "execution_count": null,
   "metadata": {},
   "outputs": [],
   "source": [
    "scene_name = 'freiburg1_desk'"
   ]
  },
  {
   "cell_type": "code",
   "execution_count": null,
   "metadata": {},
   "outputs": [],
   "source": [
    "video = DatasetVideoType(scene_name).downscale(downscale)\n",
    "frames = video.load_frames(range(0, max_T, 1))\n",
    "\n",
    "camera_pose_0, og_state, debug_data = initialize(frames[0], seed=12)\n"
   ]
  },
  {
   "cell_type": "code",
   "execution_count": null,
   "metadata": {},
   "outputs": [],
   "source": [
    "condorgmm.rr_init(\"schematic-01\")"
   ]
  },
  {
   "cell_type": "code",
   "execution_count": null,
   "metadata": {},
   "outputs": [],
   "source": [
    "\n",
    "rr_log(\n",
    "    og_state,\n",
    "    frames[0],\n",
    "    0,\n",
    "    log_inferred_camera_frustum=True,\n",
    "    ellipse_mode=rr.components.FillMode.Solid,\n",
    "    ellipse_scalar=1.5,\n",
    ")"
   ]
  },
  {
   "cell_type": "code",
   "execution_count": null,
   "metadata": {},
   "outputs": [],
   "source": []
  }
 ],
 "metadata": {
  "kernelspec": {
   "display_name": "default",
   "language": "python",
   "name": "python3"
  },
  "language_info": {
   "codemirror_mode": {
    "name": "ipython",
    "version": 3
   },
   "file_extension": ".py",
   "mimetype": "text/x-python",
   "name": "python",
   "nbconvert_exporter": "python",
   "pygments_lexer": "ipython3",
   "version": "3.12.9"
  }
 },
 "nbformat": 4,
 "nbformat_minor": 2
}
