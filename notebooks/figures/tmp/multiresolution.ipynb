{
 "cells": [
  {
   "cell_type": "code",
   "execution_count": null,
   "metadata": {},
   "outputs": [],
   "source": [
    "%load_ext autoreload\n",
    "%autoreload 2"
   ]
  },
  {
   "cell_type": "code",
   "execution_count": null,
   "metadata": {},
   "outputs": [],
   "source": [
    "import numpy as np\n",
    "import matplotlib.pyplot as plt\n",
    "import sys\n",
    "import os\n",
    "sys.path.insert(0, os.path.abspath('..'))\n",
    "from multiresolution import create_figure, generate_multires_scenes_and_log_to_rerun, generate_rerun_logs_for_object_panels, log_gaussian_splatting_results_to_rerun"
   ]
  },
  {
   "cell_type": "code",
   "execution_count": null,
   "metadata": {},
   "outputs": [],
   "source": [
    "log_gaussian_splatting_results_to_rerun()"
   ]
  },
  {
   "cell_type": "code",
   "execution_count": null,
   "metadata": {},
   "outputs": [],
   "source": []
  },
  {
   "cell_type": "code",
   "execution_count": null,
   "metadata": {},
   "outputs": [],
   "source": [
    "\n",
    "import matplotlib.pyplot as plt\n",
    "import matplotlib.gridspec as gridspec\n",
    "import numpy as np\n",
    "import condorgmm\n",
    "from condorgmm.utils.common import get_assets_path\n",
    "import condorgmm.data as data\n",
    "from condorgmm.condor.interface.camera_tracking import initialize, fast_config\n",
    "from condorgmm.condor.rerun import log_state\n",
    "import jax.numpy as jnp\n",
    "import jax\n",
    "from condorgmm.data.ycb_dataloader import YCB_MODEL_NAMES\n",
    "from condorgmm.condor.interface.shared import _frame_to_intrinsics\n",
    "from condorgmm.condor.interface.object_tracking import fit_object_model, default_cfg\n",
    "from jax.random import key as prngkey\n",
    "from condorgmm.condor.rerun import _log_gaussians\n",
    "from condorgmm.condor.pose import Pose as CondorPose\n",
    "import rerun as rr\n",
    "import trimesh\n",
    "import glob\n",
    "import pandas as pd\n",
    "import condorgmm.eval.fp_loader\n",
    "import pickle\n",
    "\n",
    "\n",
    "def gaussian_count_str(n):\n",
    "    if n < 1000:\n",
    "        return f\"{n} Gaussians\"\n",
    "    return f\"{n//1000}K Gaussians\"\n",
    "\n",
    "\n",
    "condorgmm_results_directory = (\n",
    "    condorgmm.get_root_path()\n",
    "    / \"assets/condorgmm_bucket/runtime_accuracy_3_2__2025-03-20-19-55-42\"\n",
    ")\n",
    "\n",
    "splatting_results_directory = (\n",
    "    condorgmm.get_root_path()\n",
    "    / \"assets/condorgmm_bucket/runtime_accuracy_gsplat_3_2__2025-03-20-19-53-16\"\n",
    ")\n"
   ]
  },
  {
   "cell_type": "code",
   "execution_count": null,
   "metadata": {},
   "outputs": [],
   "source": [
    "gspal_multires_visuals_directory = (\n",
    "    condorgmm.get_root_path()\n",
    "    / \"assets/condorgmm_bucket/gsplat_multires_visuals__2025-04-08-18-28-53\"\n",
    ")\n",
    "results_files = glob.glob(str(gspal_multires_visuals_directory) + \"/*.pkl\")\n",
    "data = pickle.load(open(results_files[0], \"rb\"))\n",
    "num_gaussians_list = list(data.keys())\n",
    "num_gaussians_list.sort()\n",
    "print(data[num_gaussians_list[0]].keys())\n",
    "\n",
    "mx = jnp.max(jnp.array(data[num_gaussians_list[2]]['log_opacities']))\n",
    "jnp.sum(jnp.array(data[num_gaussians_list[2]]['log_opacities']) > mx - 1.5)\n"
   ]
  },
  {
   "cell_type": "code",
   "execution_count": null,
   "metadata": {},
   "outputs": [],
   "source": [
    "from condorgmm.condor.types import Gaussian\n",
    "from condorgmm.condor.geometry import isovars_and_quaternion_to_cov"
   ]
  },
  {
   "cell_type": "code",
   "execution_count": null,
   "metadata": {},
   "outputs": [],
   "source": [
    "def splat_dict_to_gaussian(d):\n",
    "    n_gaussians = d['means'].shape[0]\n",
    "    log_scales = jnp.array(d['log_scales'])\n",
    "\n",
    "    is_valid = jax.vmap(\n",
    "        lambda x: jnp.logical_not(jnp.any(jnp.isnan(x)))\n",
    "    )(log_scales)\n",
    "    mx = jnp.max(jnp.array(d['log_opacities']))\n",
    "    is_valid = jnp.logical_and(\n",
    "        is_valid,\n",
    "        jnp.array(d['log_opacities']) > mx - 1.5\n",
    "    )\n",
    "\n",
    "    log_scales = jnp.nan_to_num(log_scales, nan=-10.)\n",
    "    xyz_cov = jax.vmap(isovars_and_quaternion_to_cov)(\n",
    "        jnp.exp(log_scales),\n",
    "        jnp.array(d['quats'])\n",
    "    )\n",
    "    return Gaussian(\n",
    "        idx=jnp.arange(n_gaussians),\n",
    "        xyz=jnp.array(d['means']),\n",
    "        xyz_cov=xyz_cov,\n",
    "        rgb=jnp.array(d['rgb']),\n",
    "        rgb_vars=jnp.ones_like(d['rgb']),\n",
    "        mixture_weight=jnp.ones(n_gaussians),\n",
    "        origin=jnp.ones(n_gaussians),\n",
    "        object_idx=jnp.zeros(n_gaussians, dtype=int),\n",
    "        n_frames_since_last_had_assoc=jnp.zeros(n_gaussians),\n",
    "    )[is_valid]\n",
    "\n",
    "splat_dict_to_gaussian(data[num_gaussians_list[2]])"
   ]
  },
  {
   "cell_type": "code",
   "execution_count": null,
   "metadata": {},
   "outputs": [],
   "source": [
    "def get_plot_data():\n",
    "    all_results_dfs = []\n",
    "    method_names = []\n",
    "\n",
    "    results_files = glob.glob(str(condorgmm_results_directory) + \"/*.pkl\")\n",
    "    results_dfs = [pd.read_pickle(f) for f in results_files]\n",
    "    assert len(results_dfs) == 1\n",
    "    results_df = results_dfs[0]\n",
    "    all_results_dfs.append(results_df)\n",
    "    method_names.append(\"condorgmm\")\n",
    "\n",
    "    assert splatting_results_directory is not None\n",
    "    splatting_results_files = glob.glob(str(splatting_results_directory) + \"/*.pkl\")\n",
    "    splatting_results_dfs = [pd.read_pickle(f) for f in splatting_results_files]\n",
    "    assert len(splatting_results_dfs) == 1\n",
    "    splatting_results_df = splatting_results_dfs[0]\n",
    "    all_results_dfs.append(splatting_results_df)\n",
    "    method_names.append(\"GSplat\")\n",
    "\n",
    "    values = {}\n",
    "    min_n_gaussians = 10000000000\n",
    "    max_n_gaussians = 0\n",
    "\n",
    "    for results_df, method_name in zip(all_results_dfs, method_names):\n",
    "        aggregated_df = results_df.groupby([\"metric\", \"num_gaussians\", \"fps\"])[\n",
    "                \"value\"\n",
    "            ].apply(lambda x: x.mean())\n",
    "\n",
    "        num_gaussians_list = []\n",
    "        runtime_list = []\n",
    "        add_list = []\n",
    "\n",
    "        for index, value in aggregated_df[\"ADD\"].items():\n",
    "            num_gaussians, fps = index\n",
    "            num_gaussians_list.append(num_gaussians)\n",
    "            runtime_list.append(fps)\n",
    "            add_list.append(value * 100.0)\n",
    "            min_n_gaussians = min(min_n_gaussians, num_gaussians)\n",
    "            max_n_gaussians = max(max_n_gaussians, num_gaussians)\n",
    "\n",
    "        values[method_name] = {\n",
    "            \"num_gaussians_list\": num_gaussians_list,\n",
    "            \"runtime_list\": runtime_list,\n",
    "            \"add_list\": add_list,\n",
    "        }\n",
    "\n",
    "    # Get FP ADD\n",
    "    fp_ycbv_result = condorgmm.eval.fp_loader.YCBVTrackingResultLoader(\n",
    "        frame_rate=1, split=\"train_real\"\n",
    "    )\n",
    "    df = fp_ycbv_result.get_dataframe(all_results_dfs[0][\"scene\"].iloc[0])\n",
    "    df = df[df[\"timestep\"] < 100]\n",
    "    df = df[df[\"object\"] == results_df[\"object\"].iloc[0]]\n",
    "    aggregated_df = df.groupby([\"metric\"])[\"value\"].apply(lambda x: x.mean())\n",
    "    fp_add = aggregated_df[\"ADD\"] * 100.0\n",
    "    num_gaussians_list = [min_n_gaussians, max_n_gaussians]\n",
    "    values[\"FP\"] = {\n",
    "        \"add_list\": [fp_add for _ in range(len(num_gaussians_list))],\n",
    "        \"runtime_list\": [30.0 for _ in range(len(num_gaussians_list))],\n",
    "    }\n",
    "\n",
    "    return values\n",
    "\n",
    "get_plot_data()\n"
   ]
  },
  {
   "cell_type": "code",
   "execution_count": null,
   "metadata": {},
   "outputs": [],
   "source": [
    "data = get_plot_data()\n",
    "line_plot_data = {\n",
    "    \"plot1\": {\n",
    "        \"condorgmm\": (data[\"num_gaussians_list\"], data[\"per_method_values\"][\"condorgmm\"][\"runtime_list\"]),\n",
    "        \"Gaussian Splatting\": (data[\"num_gaussians_list\"], data[\"per_method_values\"][\"GSplat\"][\"runtime_list\"]),\n",
    "        \"FoundationPose\": (data[\"num_gaussians_list\"], data[\"per_method_values\"][\"FP\"][\"runtime_list\"]),\n",
    "    },\n",
    "    \"plot2\": {\n",
    "        \"condorgmm\": (data[\"num_gaussians_list\"], data[\"per_method_values\"][\"condorgmm\"][\"add_list\"]),\n",
    "        \"Gaussian Splatting\": (data[\"num_gaussians_list\"], data[\"per_method_values\"][\"GSplat\"][\"add_list\"]),\n",
    "        \"FoundationPose\": (data[\"num_gaussians_list\"], data[\"per_method_values\"][\"FP\"][\"add_list\"])\n",
    "    },\n",
    "}\n",
    "line_plot_data"
   ]
  },
  {
   "cell_type": "code",
   "execution_count": null,
   "metadata": {},
   "outputs": [],
   "source": []
  },
  {
   "cell_type": "code",
   "execution_count": null,
   "metadata": {},
   "outputs": [],
   "source": []
  },
  {
   "cell_type": "code",
   "execution_count": null,
   "metadata": {},
   "outputs": [],
   "source": [
    "generate_multires_scenes_and_log_to_rerun()"
   ]
  },
  {
   "cell_type": "code",
   "execution_count": null,
   "metadata": {},
   "outputs": [],
   "source": [
    "generate_rerun_logs_for_object_panels()"
   ]
  },
  {
   "cell_type": "markdown",
   "metadata": {},
   "source": [
    "## Make the figure"
   ]
  },
  {
   "cell_type": "code",
   "execution_count": null,
   "metadata": {},
   "outputs": [],
   "source": [
    "import matplotlib.pyplot as plt\n",
    "import condorgmm\n",
    "\n",
    "# load gen3_figures/PNGs/gaussians-1k.png into a numpy array\n",
    "prefix = condorgmm.get_root_path() / \"notebooks/condorgmm_figures/PNGs/\"\n",
    "def imread(path):\n",
    "    return plt.imread(prefix / path)\n",
    "\n",
    "top_left_images = [\n",
    "    [imread(\"gaussians-100.png\"), imread(\"gaussians-1k.png\"), imread(\"gaussians-10k.png\")],\n",
    "    [imread(\"reconstruction-100.png\"), imread(\"reconstruction-1k.png\"), imread(\"reconstruction-10k.png\")],\n",
    "]"
   ]
  },
  {
   "cell_type": "code",
   "execution_count": null,
   "metadata": {},
   "outputs": [],
   "source": [
    "bottom_left_images = [\n",
    "    [imread(\"banana-20.png\"), imread(\"banana-200.png\"), imread(\"banana-2k.png\")],\n",
    "    [imread(\"crackerbox-20.png\"), imread(\"crackerbox-200.png\"), imread(\"crackerbox-2k.png\")],\n",
    "]"
   ]
  },
  {
   "cell_type": "code",
   "execution_count": null,
   "metadata": {},
   "outputs": [],
   "source": [
    "# Create dummy image data: three 2x3 arrays.\n",
    "dummy_top_right = [[np.random.rand(10, 10) for j in range(3)] for i in range(2)]\n",
    "\n",
    "# Create dummy line plot data.\n",
    "x = np.linspace(0, 10, 100)\n",
    "dummy_line_plot_data = {\n",
    "    \"plot1\": {\n",
    "        \"condorgmm\": (x, np.sin(x)),\n",
    "        \"Gaussian Splatting\": (x, np.sin(x + 0.5)),\n",
    "        \"FoundationPose\": (x, np.sin(x + 1.0)),\n",
    "    },\n",
    "    \"plot2\": {\n",
    "        \"condorgmm\": (x, np.cos(x)),\n",
    "        \"Gaussian Splatting\": (x, np.cos(x + 0.5)),\n",
    "        \"FoundationPose\": (x, np.cos(x + 1.0)),\n",
    "    },\n",
    "}\n",
    "\n",
    "cnts = [100, 1000, 10000]\n",
    "\n",
    "fig = create_figure(\n",
    "    top_left_images, dummy_top_right, cnts, bottom_left_images, [20, 200, 2000], dummy_line_plot_data\n",
    ")\n",
    "plt.show()\n"
   ]
  },
  {
   "cell_type": "code",
   "execution_count": null,
   "metadata": {},
   "outputs": [],
   "source": []
  }
 ],
 "metadata": {
  "kernelspec": {
   "display_name": "default",
   "language": "python",
   "name": "python3"
  },
  "language_info": {
   "codemirror_mode": {
    "name": "ipython",
    "version": 3
   },
   "file_extension": ".py",
   "mimetype": "text/x-python",
   "name": "python",
   "nbconvert_exporter": "python",
   "pygments_lexer": "ipython3",
   "version": "3.12.9"
  }
 },
 "nbformat": 4,
 "nbformat_minor": 2
}
