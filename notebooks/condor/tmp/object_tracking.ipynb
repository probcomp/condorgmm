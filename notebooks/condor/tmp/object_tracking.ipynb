{
 "cells": [
  {
   "cell_type": "code",
   "execution_count": null,
   "metadata": {},
   "outputs": [],
   "source": [
    "%load_ext autoreload\n",
    "%autoreload 2"
   ]
  },
  {
   "cell_type": "code",
   "execution_count": null,
   "metadata": {},
   "outputs": [],
   "source": [
    "import genjax\n",
    "genjax.pretty()"
   ]
  },
  {
   "cell_type": "code",
   "execution_count": null,
   "metadata": {},
   "outputs": [],
   "source": [
    "## Load a video ##\n",
    "\n",
    "import condorgmm\n",
    "import condorgmm.data as data\n",
    "\n",
    "original_video = data.YCBinEOATVideo(\"cracker_box_reorient\")\n",
    "video = original_video.downscale(2)\n",
    "\n",
    "import matplotlib.pyplot as plt\n",
    "plt.imshow(video[0].rgb)"
   ]
  },
  {
   "cell_type": "code",
   "execution_count": null,
   "metadata": {},
   "outputs": [],
   "source": [
    "import jax.numpy as jnp\n",
    "\n",
    "plt.imshow(jnp.where(\n",
    "    jnp.logical_not(video[0].masks[0][..., None]),\n",
    "    video[0].rgb,\n",
    "    jnp.zeros_like(video[0].rgb)\n",
    "))"
   ]
  },
  {
   "cell_type": "code",
   "execution_count": null,
   "metadata": {},
   "outputs": [],
   "source": [
    "from condorgmm.condor.interface.camera_tracking import initialize, update\n",
    "import rerun as rr\n",
    "from condorgmm.condor.rerun import log_state\n",
    "from tqdm import tqdm\n",
    "import condorgmm.condor.interface.object_tracking as ot\n",
    "\n",
    "condorgmm.rr_init(\"objtrack_with_gt_poses_03\")"
   ]
  },
  {
   "cell_type": "code",
   "execution_count": null,
   "metadata": {},
   "outputs": [],
   "source": [
    "cfg = ot.default_cfg"
   ]
  },
  {
   "cell_type": "code",
   "execution_count": null,
   "metadata": {},
   "outputs": [],
   "source": [
    "for i in tqdm(range(1000)):\n",
    "    if i % 4 == 0:\n",
    "        if i == 0:\n",
    "            _, _, ccts = ot.initialize(\n",
    "                video[i],\n",
    "                condorgmm.Pose(video[i].camera_pose),\n",
    "                condorgmm.Pose(video[i].object_poses[0]),\n",
    "                original_video.get_object_mesh_from_id(original_video.object_id),\n",
    "                video[0].masks[0],\n",
    "                cfg,\n",
    "                log=False\n",
    "            )\n",
    "        else:\n",
    "            _, _, ccts = ot.update(\n",
    "                video[i],\n",
    "                condorgmm.Pose(video[i].camera_pose),\n",
    "                condorgmm.Pose(video[i].object_poses[0]),\n",
    "                ccts,\n",
    "                cfg,\n",
    "                log=False\n",
    "            )\n",
    "\n",
    "        rr.set_time_sequence(\"frame\", i)\n",
    "        log_state(ccts.state, ccts.hypers)\n",
    "        # rr.log(\"depth_img/observation\", rr.DepthImage(video[i].depth))\n",
    "        # rr.log(\"depth_img/inferred\", rr.DepthImage(ccts.state.datapoints.value.xyz[..., 2].reshape(video[i].depth.shape)))"
   ]
  },
  {
   "cell_type": "code",
   "execution_count": null,
   "metadata": {},
   "outputs": [],
   "source": []
  }
 ],
 "metadata": {
  "kernelspec": {
   "display_name": "default",
   "language": "python",
   "name": "python3"
  },
  "language_info": {
   "codemirror_mode": {
    "name": "ipython",
    "version": 3
   },
   "file_extension": ".py",
   "mimetype": "text/x-python",
   "name": "python",
   "nbconvert_exporter": "python",
   "pygments_lexer": "ipython3",
   "version": "3.12.9"
  }
 },
 "nbformat": 4,
 "nbformat_minor": 2
}
