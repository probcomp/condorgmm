{
 "cells": [
  {
   "cell_type": "code",
   "execution_count": null,
   "metadata": {},
   "outputs": [],
   "source": [
    "%load_ext autoreload\n",
    "%autoreload 2"
   ]
  },
  {
   "cell_type": "code",
   "execution_count": null,
   "metadata": {},
   "outputs": [],
   "source": [
    "import genjax\n",
    "genjax.pretty()"
   ]
  },
  {
   "cell_type": "code",
   "execution_count": null,
   "metadata": {},
   "outputs": [],
   "source": [
    "## Load a video ##\n",
    "\n",
    "import condorgmm\n",
    "import condorgmm.data as data\n",
    "\n",
    "# original_video = data.YCBinEOATVideo(\"cracker_box_reorient\")\n",
    "original_video = condorgmm.data.YCBVVideo.training_scene(2)\n",
    "OBJECT_IDX = 1\n",
    "video = original_video.downscale(2)\n",
    "\n",
    "import matplotlib.pyplot as plt\n",
    "plt.imshow(video[0].rgb)"
   ]
  },
  {
   "cell_type": "code",
   "execution_count": null,
   "metadata": {},
   "outputs": [],
   "source": [
    "plt.imshow(video[0].depth)"
   ]
  },
  {
   "cell_type": "code",
   "execution_count": null,
   "metadata": {},
   "outputs": [],
   "source": [
    "import jax.numpy as jnp\n",
    "\n",
    "plt.imshow(jnp.where(\n",
    "    jnp.logical_not(video[0].masks[OBJECT_IDX][..., None]),\n",
    "    video[0].rgb,\n",
    "    jnp.zeros_like(video[0].rgb)\n",
    "))"
   ]
  },
  {
   "cell_type": "code",
   "execution_count": null,
   "metadata": {},
   "outputs": [],
   "source": [
    "import condorgmm.condor.interface.object_tracking as ot"
   ]
  },
  {
   "cell_type": "code",
   "execution_count": null,
   "metadata": {},
   "outputs": [],
   "source": [
    "cfg = ot.default_cfg"
   ]
  },
  {
   "cell_type": "code",
   "execution_count": null,
   "metadata": {},
   "outputs": [],
   "source": [
    "gmm0, gmm1, ccts, metadata = ot.initialize(\n",
    "    video[0],\n",
    "    condorgmm.Pose(video[0].camera_pose),\n",
    "    condorgmm.Pose(video[0].object_poses[OBJECT_IDX]),\n",
    "    original_video.get_object_mesh_from_id(\n",
    "        video[0].object_ids[OBJECT_IDX]\n",
    "    ),\n",
    "    video[0].masks[OBJECT_IDX],\n",
    "    cfg,\n",
    "    log=True\n",
    ")"
   ]
  },
  {
   "cell_type": "code",
   "execution_count": null,
   "metadata": {},
   "outputs": [],
   "source": [
    "import rerun as rr\n",
    "from condorgmm.condor.rerun import log_state\n",
    "\n",
    "object_fitting_meta = metadata['object_model_metadata']['meta']\n",
    "object_fitting_hypers = metadata['object_model_metadata']['hypers']\n",
    "\n",
    "bkg_only_meta = metadata['bkg_only_metadata']\n",
    "bkg_only_hypers = metadata['hypers_masking_object']\n",
    "\n",
    "st_after_adding_in_object = metadata['st_after_adding_in_object']\n",
    "st_after_dp_update = metadata['st_after_dp_update']\n",
    "\n",
    "final_metadata = metadata['final_metadata']\n",
    "final_hypers = ccts.hypers"
   ]
  },
  {
   "cell_type": "code",
   "execution_count": null,
   "metadata": {},
   "outputs": [],
   "source": [
    "from matplotlib.ticker import FuncFormatter, LogLocator, MaxNLocator\n",
    "import jax.numpy as jnp\n",
    "import matplotlib.pyplot as plt\n",
    "import jax\n",
    "\n",
    "def plot_param(param_name, *, idxs=(), miny=None, ax=None, colors=None):\n",
    "    def get_value(i, idx=None):\n",
    "        params = final_metadata.visited_states.states[i].matter.background_initialization_params\n",
    "        value = getattr(params, param_name).value\n",
    "        if idx is not None:\n",
    "            return value[idx]\n",
    "        return value\n",
    "    \n",
    "    xs = jnp.arange(len(final_metadata.visited_states.states))\n",
    "    \n",
    "    if ax is None:\n",
    "        fig, ax = plt.subplots(figsize=(10, 4))\n",
    "    else:\n",
    "        fig = ax.figure\n",
    "    \n",
    "    if len(idxs) > 0:\n",
    "        values_list = []\n",
    "        for i, idx in enumerate(idxs):\n",
    "            values = jax.vmap(lambda i: get_value(i, idx))(xs)\n",
    "            if miny is not None:\n",
    "                values = values - miny\n",
    "            values_list.append(values)\n",
    "            color = colors[i] if colors is not None and i < len(colors) else None\n",
    "            ax.plot(xs, values, label=f'{param_name}[{idx}]', color=color)\n",
    "        all_values = jnp.concatenate(values_list)  # Combine for range computation\n",
    "    else:\n",
    "        values = jax.vmap(get_value)(xs)\n",
    "        if miny is not None:\n",
    "            values = values - miny\n",
    "        ax.plot(xs, values, label=param_name)\n",
    "        all_values = values  # Single variable range\n",
    "    \n",
    "    ymin, ymax = jnp.min(all_values), jnp.max(all_values)\n",
    "    \n",
    "    ax.set_xlabel('Inference Step')\n",
    "    ylabel = param_name\n",
    "    ax.set_ylabel(ylabel)\n",
    "    \n",
    "    ax.set_yscale('log')\n",
    "    if miny is not None:\n",
    "        formatter = FuncFormatter(lambda y, _: f'{miny} + 10^{{{jnp.log10(y):.2f}}}')\n",
    "        ax.yaxis.set_major_formatter(formatter)\n",
    "\n",
    "    ax.set_title(f'{param_name} over Inference Steps')\n",
    "    ax.legend()\n",
    "    \n",
    "    return ax\n",
    "\n",
    "# Create a shared plot with six subplots\n",
    "fig, ax = plt.subplots(6, 1, figsize=(10, 8))\n",
    "\n",
    "# Plot the first parameter\n",
    "plot_param('xyz_cov_pcnt', miny=2., ax=ax[0])\n",
    "\n",
    "# Plot the second parameter\n",
    "plot_param('xyz_cov_isotropic_prior_stds', idxs=(0, 1, 2), ax=ax[1])\n",
    "\n",
    "# # Plot the third parameter\n",
    "plot_param('xyz_mean_pcnt', ax=ax[2])\n",
    "\n",
    "# Plot the fourth parameter with colors\n",
    "plot_param('rgb_var_n_pseudo_obs', idxs=(0, 1, 2), ax=ax[3], colors=['red', 'green', 'blue'])\n",
    "\n",
    "# Plot the fifth parameter with colors\n",
    "plot_param('rgb_var_pseudo_sample_stds', idxs=(0, 1, 2), ax=ax[4], colors=['red', 'green', 'blue'])\n",
    "\n",
    "# Plot the sixth parameter with colors\n",
    "plot_param('rgb_mean_n_pseudo_obs', idxs=(0, 1, 2), ax=ax[5], colors=['red', 'green', 'blue'])\n",
    "\n",
    "plt.tight_layout()\n",
    "plt.show()\n"
   ]
  },
  {
   "cell_type": "code",
   "execution_count": null,
   "metadata": {},
   "outputs": [],
   "source": [
    "\n",
    "condorgmm.rr_init(\"full_inference_seq_02\")\n",
    "\n",
    "animation_sequence = [\n",
    "    # (object_fitting_meta, object_fitting_hypers, \"object_fitting\"),\n",
    "    # (bkg_only_meta, bkg_only_hypers, \"bkg_only\"),\n",
    "    (st_after_adding_in_object, final_hypers, \"st_after_adding_in_object\"),\n",
    "    (st_after_dp_update, final_hypers, \"st_after_dp_update\"),\n",
    "    (final_metadata, final_hypers, \"final_metadata\"),\n",
    "]\n",
    "\n",
    "ctr = 0\n",
    "for (meta, hypers, name) in animation_sequence:\n",
    "    print(f\"Reached {name}\")\n",
    "    if isinstance(meta, ot.CondorGMMState):\n",
    "        rr.set_time_sequence(\"step\", ctr)\n",
    "        log_state(meta, hypers)\n",
    "        rr.log(\"text\", rr.TextLog(name))\n",
    "        ctr += 1\n",
    "    else:\n",
    "        for (i, label) in enumerate(meta.visited_states.all_labels):\n",
    "            if i % 5 == 0:\n",
    "                rr.set_time_sequence(\"step\", ctr)\n",
    "                state = meta.visited_states.states[i]\n",
    "                log_state(state, hypers)\n",
    "                rr.log(\"text\", rr.TextLog(f\"{name}:::{label}\"))\n",
    "                ctr += 1"
   ]
  },
  {
   "cell_type": "code",
   "execution_count": null,
   "metadata": {},
   "outputs": [],
   "source": [
    "video[0]."
   ]
  },
  {
   "cell_type": "code",
   "execution_count": null,
   "metadata": {},
   "outputs": [],
   "source": [
    "import jax\n",
    "\n",
    "# jax.vmap(\n",
    "#     lambda wts: jnp.sort(wts, descending=True)\n",
    "# )(final_metadata.visited_states.states[135:145].gaussians.mixture_weight)\n",
    "\n",
    "# final_metadata.visited_states.states.gaussians.xyz[135:145, :10]\n",
    "final_metadata.visited_states.states.datapoints.value.gaussian_idx[139:145, :20]"
   ]
  },
  {
   "cell_type": "code",
   "execution_count": null,
   "metadata": {},
   "outputs": [],
   "source": [
    "final_metadata.visited_states.states.gaussians.mixture_weight[139:145, 39]"
   ]
  },
  {
   "cell_type": "code",
   "execution_count": null,
   "metadata": {},
   "outputs": [],
   "source": [
    "final_metadata.visited_states.states.gaussians.rgb_vars[100:145, 39]"
   ]
  },
  {
   "cell_type": "code",
   "execution_count": null,
   "metadata": {},
   "outputs": [],
   "source": []
  },
  {
   "cell_type": "code",
   "execution_count": null,
   "metadata": {},
   "outputs": [],
   "source": [
    "from matplotlib.ticker import FuncFormatter, LogLocator, MaxNLocator\n",
    "import jax.numpy as jnp\n",
    "import matplotlib.pyplot as plt\n",
    "import jax\n",
    "\n",
    "def plot_param(param_name, *, idxs=(), miny=None, ax=None, colors=None):\n",
    "    def get_value(i, idx=None):\n",
    "        params = final_metadata.visited_states.states[i].matter.background_initialization_params\n",
    "        value = getattr(params, param_name).value\n",
    "        if idx is not None:\n",
    "            return value[idx]\n",
    "        return value\n",
    "    \n",
    "    xs = jnp.arange(len(final_metadata.visited_states.states))\n",
    "    \n",
    "    if ax is None:\n",
    "        fig, ax = plt.subplots(figsize=(10, 4))\n",
    "    else:\n",
    "        fig = ax.figure\n",
    "    \n",
    "    if len(idxs) > 0:\n",
    "        values_list = []\n",
    "        for i, idx in enumerate(idxs):\n",
    "            values = jax.vmap(lambda i: get_value(i, idx))(xs)\n",
    "            if miny is not None:\n",
    "                values = values - miny\n",
    "            values_list.append(values)\n",
    "            color = colors[i] if colors is not None and i < len(colors) else None\n",
    "            ax.plot(xs, values, label=f'{param_name}[{idx}]', color=color)\n",
    "        all_values = jnp.concatenate(values_list)  # Combine for range computation\n",
    "    else:\n",
    "        values = jax.vmap(get_value)(xs)\n",
    "        if miny is not None:\n",
    "            values = values - miny\n",
    "        ax.plot(xs, values, label=param_name)\n",
    "        all_values = values  # Single variable range\n",
    "    \n",
    "    ymin, ymax = jnp.min(all_values), jnp.max(all_values)\n",
    "    \n",
    "    ax.set_xlabel('Inference Step')\n",
    "    ylabel = param_name\n",
    "    ax.set_ylabel(ylabel)\n",
    "    \n",
    "    ax.set_yscale('log')\n",
    "    if miny is not None:\n",
    "        formatter = FuncFormatter(lambda y, _: f'{miny} + 10^{{{jnp.log10(y):.2f}}}')\n",
    "        ax.yaxis.set_major_formatter(formatter)\n",
    "\n",
    "    ax.set_title(f'{param_name} over Inference Steps')\n",
    "    ax.legend()\n",
    "    \n",
    "    return ax\n",
    "\n",
    "# Create a shared plot with six subplots\n",
    "fig, ax = plt.subplots(6, 1, figsize=(10, 8))\n",
    "\n",
    "# Plot the first parameter\n",
    "plot_param('xyz_cov_pcnt', miny=2., ax=ax[0])\n",
    "\n",
    "# Plot the second parameter\n",
    "plot_param('xyz_cov_isotropic_prior_stds', idxs=(0, 1, 2), ax=ax[1])\n",
    "\n",
    "# # Plot the third parameter\n",
    "plot_param('xyz_mean_pcnt', ax=ax[2])\n",
    "\n",
    "# Plot the fourth parameter with colors\n",
    "plot_param('rgb_var_n_pseudo_obs', idxs=(0, 1, 2), ax=ax[3], colors=['red', 'green', 'blue'])\n",
    "\n",
    "# Plot the fifth parameter with colors\n",
    "plot_param('rgb_var_pseudo_sample_stds', idxs=(0, 1, 2), ax=ax[4], colors=['red', 'green', 'blue'])\n",
    "\n",
    "# Plot the sixth parameter with colors\n",
    "plot_param('rgb_mean_n_pseudo_obs', idxs=(0, 1, 2), ax=ax[5], colors=['red', 'green', 'blue'])\n",
    "\n",
    "plt.tight_layout()\n",
    "plt.show()\n"
   ]
  },
  {
   "cell_type": "code",
   "execution_count": null,
   "metadata": {},
   "outputs": [],
   "source": []
  },
  {
   "cell_type": "code",
   "execution_count": null,
   "metadata": {},
   "outputs": [],
   "source": []
  },
  {
   "cell_type": "code",
   "execution_count": null,
   "metadata": {},
   "outputs": [],
   "source": [
    "from condorgmm.condor.rerun import log_state\n",
    "\n",
    "condorgmm.rr_init(\"final_state_00\")\n",
    "\n",
    "log_state(ccts.state, ccts.hypers)"
   ]
  },
  {
   "cell_type": "code",
   "execution_count": null,
   "metadata": {},
   "outputs": [],
   "source": []
  },
  {
   "cell_type": "code",
   "execution_count": null,
   "metadata": {},
   "outputs": [],
   "source": []
  },
  {
   "cell_type": "code",
   "execution_count": null,
   "metadata": {},
   "outputs": [],
   "source": []
  },
  {
   "cell_type": "code",
   "execution_count": null,
   "metadata": {},
   "outputs": [],
   "source": [
    "metadata['final_metadata'].visited_states.states[138:142].gaussians.mixture_weight"
   ]
  },
  {
   "cell_type": "code",
   "execution_count": null,
   "metadata": {},
   "outputs": [],
   "source": [
    "metadata['final_metadata'].visited_states.get_label(0)"
   ]
  },
  {
   "cell_type": "code",
   "execution_count": null,
   "metadata": {},
   "outputs": [],
   "source": [
    "(\n",
    "    frame,\n",
    "    camera_pose_world_frame,\n",
    "    object_pose_world_frame,\n",
    "    object_mesh,\n",
    "    object_mask,  # (H, W) boolean array\n",
    "    cfg,\n",
    ") = (\n",
    "    video[0],\n",
    "    condorgmm.Pose(video[0].camera_pose),\n",
    "    condorgmm.Pose(video[0].object_poses[0]),\n",
    "    original_video.get_object_mesh_from_id(original_video.object_id),\n",
    "    video[0].masks[0],\n",
    "    ot.default_cfg,\n",
    ")"
   ]
  },
  {
   "cell_type": "code",
   "execution_count": null,
   "metadata": {},
   "outputs": [],
   "source": [
    "import jax\n",
    "from jax.random import split\n",
    "import jax.numpy as jnp\n",
    "\n",
    "key = jax.random.key(0)\n",
    "\n",
    "from condorgmm.condor.interface.object_tracking import _frame_to_intrinsics\n",
    "\n",
    "k1, k2, k3, k4, k5, k6 = split(key, 6)\n",
    "\n",
    "if cfg.repopulate_depth_nonreturns:\n",
    "    mask = jnp.ones(frame.width * frame.height, dtype=bool)\n",
    "else:\n",
    "    mask = jnp.array(frame.depth > 0, dtype=bool).flatten()\n",
    "hypers = cfg.base_hypers.replace(\n",
    "    {\n",
    "        \"n_gaussians\": cfg.n_gaussians_for_background + cfg.n_gaussians_for_object,\n",
    "        \"tile_size_x\": cfg.tile_size_x,\n",
    "        \"tile_size_y\": cfg.tile_size_y,\n",
    "        \"intrinsics\": _frame_to_intrinsics(\n",
    "            frame, ensure_fx_eq_fy=cfg.repopulate_depth_nonreturns\n",
    "        ),\n",
    "        \"datapoint_mask\": mask,\n",
    "        \"max_n_gaussians_per_tile\": cfg.max_n_gaussians_per_tile,\n",
    "        \"repopulate_depth_nonreturns\": cfg.repopulate_depth_nonreturns,\n",
    "    },\n",
    "    do_replace_none=False,\n",
    ")\n"
   ]
  },
  {
   "cell_type": "code",
   "execution_count": null,
   "metadata": {},
   "outputs": [],
   "source": [
    "from condorgmm.condor.interface.object_tracking import BackgroundOnlySceneState, Pose\n",
    "\n",
    "xyz, rgb = condorgmm.mesh.sample_surface_points(\n",
    "    object_mesh, cfg.n_pts_for_object_fitting\n",
    ")\n",
    "xyz, rgb = jnp.array(xyz, dtype=jnp.float32), jnp.array(rgb, dtype=jnp.float32)\n",
    "rgb = (\n",
    "    rgb\n",
    "    + jax.random.normal(k1, rgb.shape, dtype=jnp.float32)\n",
    "    * hypers.rgb_noisefloor_std\n",
    ")\n",
    "hypers = hypers.replace(\n",
    "    n_gaussians=cfg.n_gaussians_for_object,\n",
    "    datapoint_mask=jnp.ones(cfg.n_pts_for_object_fitting, dtype=bool),\n",
    "    repopulate_depth_nonreturns=False,\n",
    "    use_monolithic_tiling=True,\n",
    "    initial_scene=BackgroundOnlySceneState(\n",
    "        transform_World_Camera=Pose.identity(),\n",
    "        background_rigidity=hypers.initial_scene.background_rigidity,  # doesn't matter\n",
    "    ),\n",
    ")\n"
   ]
  },
  {
   "cell_type": "code",
   "execution_count": null,
   "metadata": {},
   "outputs": [],
   "source": [
    "n_gaussians = 20\n",
    "n_datapoints = xyz.shape[0]\n",
    "gaussian_to_datapoint = jax.random.choice(\n",
    "    key, jnp.arange(n_datapoints), shape=(n_gaussians,), replace=False\n",
    ")\n",
    "\n",
    "dp_to_4_closest = jax.vmap(\n",
    "    lambda dp_idx: jnp.argsort(jnp.linalg.norm(xyz - xyz[dp_idx], axis=-1))[:20]\n",
    ")\n",
    "gaussian_to_4_datapoints = dp_to_4_closest(gaussian_to_datapoint)\n",
    "gaussian_to_4_datapoints"
   ]
  },
  {
   "cell_type": "code",
   "execution_count": null,
   "metadata": {},
   "outputs": [],
   "source": [
    "jnp.concatenate(gaussian_to_4_datapoints)"
   ]
  },
  {
   "cell_type": "code",
   "execution_count": null,
   "metadata": {},
   "outputs": [],
   "source": [
    "jnp.repeat(jnp.arange(n_gaussians), 20)"
   ]
  },
  {
   "cell_type": "code",
   "execution_count": null,
   "metadata": {},
   "outputs": [],
   "source": [
    "dp_to_gaussian = (-jnp.ones(n_datapoints, dtype=jnp.int32)).at[\n",
    "    jnp.concatenate(gaussian_to_4_datapoints)\n",
    "].set(jnp.repeat(jnp.arange(n_gaussians), 20))\n",
    "dp_to_gaussian"
   ]
  },
  {
   "cell_type": "code",
   "execution_count": null,
   "metadata": {},
   "outputs": [],
   "source": [
    "from condorgmm.condor.interface.object_tracking import _get_sparse_datapoint_assignment_initialization\n",
    "\n",
    "gaussian_idxs = _get_sparse_datapoint_assignment_initialization(\n",
    "    k2, cfg.n_gaussians_for_object, xyz, rgb\n",
    ")\n",
    "\n",
    "gaussian_idxs[gaussian_idxs != -1]"
   ]
  },
  {
   "cell_type": "code",
   "execution_count": null,
   "metadata": {},
   "outputs": [],
   "source": []
  },
  {
   "cell_type": "code",
   "execution_count": null,
   "metadata": {},
   "outputs": [],
   "source": []
  },
  {
   "cell_type": "code",
   "execution_count": null,
   "metadata": {},
   "outputs": [],
   "source": [
    "import condorgmm.condor.interface.object_tracking as ot\n",
    "# import importlib\n",
    "# importlib.reload(ot)\n",
    "\n",
    "gmm0, gmm1, ccts, metadata = ot.initialize(\n",
    "    video[0],\n",
    "    condorgmm.Pose(video[0].camera_pose),\n",
    "    condorgmm.Pose(video[0].object_poses[0]),\n",
    "    original_video.get_object_mesh_from_id(original_video.object_id),\n",
    "    video[0].masks[0],\n",
    "    ot.default_cfg.replace(n_gaussians_for_object=120),\n",
    "    log=True\n",
    ")"
   ]
  },
  {
   "cell_type": "code",
   "execution_count": null,
   "metadata": {},
   "outputs": [],
   "source": [
    "import rerun as rr\n",
    "from condorgmm.condor.rerun import log_state\n",
    "\n",
    "hyp = metadata['object_model_metadata']['hypers']\n",
    "meta = metadata['object_model_metadata']['meta']\n",
    "\n",
    "condorgmm.rr_init(\"object_fitting_00\")\n",
    "\n",
    "for (i, label) in enumerate(meta.visited_states.all_labels):\n",
    "    if i % 40 != 0 and i > 30:\n",
    "        continue\n",
    "    rr.set_time_sequence(\"frame\", i)\n",
    "    log_state(meta.visited_states.states[i], hyp)"
   ]
  },
  {
   "cell_type": "code",
   "execution_count": null,
   "metadata": {},
   "outputs": [],
   "source": [
    "condorgmm.rr_init(\"final_state_00\")\n",
    "\n",
    "log_state(ccts.state, ccts.hypers)"
   ]
  },
  {
   "cell_type": "code",
   "execution_count": null,
   "metadata": {},
   "outputs": [],
   "source": []
  }
 ],
 "metadata": {
  "kernelspec": {
   "display_name": "default",
   "language": "python",
   "name": "python3"
  },
  "language_info": {
   "codemirror_mode": {
    "name": "ipython",
    "version": 3
   },
   "file_extension": ".py",
   "mimetype": "text/x-python",
   "name": "python",
   "nbconvert_exporter": "python",
   "pygments_lexer": "ipython3",
   "version": "3.12.9"
  }
 },
 "nbformat": 4,
 "nbformat_minor": 2
}
