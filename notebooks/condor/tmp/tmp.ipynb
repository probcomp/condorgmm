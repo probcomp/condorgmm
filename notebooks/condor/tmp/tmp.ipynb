{
 "cells": [
  {
   "cell_type": "code",
   "execution_count": null,
   "metadata": {},
   "outputs": [],
   "source": [
    "%load_ext autoreload\n",
    "%autoreload 2"
   ]
  },
  {
   "cell_type": "code",
   "execution_count": null,
   "metadata": {},
   "outputs": [],
   "source": [
    "import jax\n",
    "import jax.numpy as jnp\n",
    "from genjax import Mask\n",
    "from condorgmm.utils.jax import unproject\n",
    "from condorgmm.condor.types import Intrinsics\n",
    "import condorgmm.condor.tiling as t"
   ]
  },
  {
   "cell_type": "code",
   "execution_count": null,
   "metadata": {},
   "outputs": [],
   "source": [
    "config = t.GridTilingConfig(\n",
    "    tile_size_x=2,\n",
    "    tile_size_y=2,\n",
    "    intrinsics=Intrinsics(\n",
    "        2.0, 2.0, 4.0, 2.0, 1e-5, 1e5, image_height=8, image_width=4\n",
    "    ),\n",
    "    n_gaussians=16,\n",
    "    max_n_gaussians_per_tile=4,\n",
    ")"
   ]
  },
  {
   "cell_type": "code",
   "execution_count": null,
   "metadata": {},
   "outputs": [],
   "source": [
    "pixel_coords_og = jnp.array([\n",
    "    [y + 0.5, x + 0.5] for y in range(8) for x in range(4)\n",
    "])\n",
    "depths = jnp.arange(32) + 1\n",
    "i = config.intrinsics\n",
    "coords_3d = jax.vmap(lambda x, y, z: unproject(x, y, z, i.fx, i.fy, i.cx, i.cy))(\n",
    "    pixel_coords_og[:, 0], pixel_coords_og[:, 1], depths\n",
    ")\n",
    "t.GridTiling.from_gaussian_means(config, coords_3d).tile_to_gaussians"
   ]
  },
  {
   "cell_type": "code",
   "execution_count": null,
   "metadata": {},
   "outputs": [],
   "source": [
    "from condorgmm.utils.jax import xyz_to_pixel_coordinates\n",
    "intrinsics = config.intrinsics\n",
    "pixel_coords = xyz_to_pixel_coordinates(\n",
    "    coords_3d,\n",
    "    intrinsics.fx,\n",
    "    intrinsics.fy,\n",
    "    intrinsics.cx,\n",
    "    intrinsics.cy,\n",
    ")"
   ]
  },
  {
   "cell_type": "code",
   "execution_count": null,
   "metadata": {},
   "outputs": [],
   "source": [
    "gaussian_to_tile = jax.vmap(config.pixel_coordinate_to_tile_index)(\n",
    "    pixel_coords[:, 0],\n",
    "    pixel_coords[:, 1],\n",
    ")"
   ]
  },
  {
   "cell_type": "code",
   "execution_count": null,
   "metadata": {},
   "outputs": [],
   "source": [
    "gaussian_to_tile.shape"
   ]
  },
  {
   "cell_type": "code",
   "execution_count": null,
   "metadata": {},
   "outputs": [],
   "source": [
    "M=config.max_n_gaussians_per_tile\n",
    "key = jax.random.key(0)\n",
    "K=64\n",
    "R=4"
   ]
  },
  {
   "cell_type": "code",
   "execution_count": null,
   "metadata": {},
   "outputs": [],
   "source": [
    "n_tiles_y, n_tiles_x = config.n_tiles_y, config.n_tiles_x\n",
    "n_gaussians = gaussian_to_tile.shape[0]"
   ]
  },
  {
   "cell_type": "code",
   "execution_count": null,
   "metadata": {},
   "outputs": [],
   "source": [
    "tile_to_gaussian_large = -jnp.ones((n_tiles_y, n_tiles_x, K), dtype=int)\n",
    "gaussian_to_R_idxs = jax.random.randint(key, (n_gaussians, R), 0, K)"
   ]
  },
  {
   "cell_type": "code",
   "execution_count": null,
   "metadata": {},
   "outputs": [],
   "source": [
    "gaussian_to_R_idxs"
   ]
  },
  {
   "cell_type": "code",
   "execution_count": null,
   "metadata": {},
   "outputs": [],
   "source": [
    "tile_to_gaussian_large.shape"
   ]
  },
  {
   "cell_type": "code",
   "execution_count": null,
   "metadata": {},
   "outputs": [],
   "source": [
    "jnp.repeat(gaussian_to_tile[:, 0:1], R, axis=1).shape"
   ]
  },
  {
   "cell_type": "code",
   "execution_count": null,
   "metadata": {},
   "outputs": [],
   "source": [
    "tgl2 = tile_to_gaussian_large.at[\n",
    "    jnp.repeat(gaussian_to_tile[:, 0:1], R, axis=1),\n",
    "    jnp.repeat(gaussian_to_tile[:, 1:2], R, axis=1),\n",
    "    gaussian_to_R_idxs\n",
    "].set(jnp.arange(n_gaussians)[:, None])"
   ]
  },
  {
   "cell_type": "code",
   "execution_count": null,
   "metadata": {},
   "outputs": [],
   "source": [
    "jax.vmap(\n",
    "    lambda a: jax.vmap(\n",
    "        lambda idxs_large: t.GridTiling._compress_to_M(idxs_large, M)\n",
    "    )(a)\n",
    ")(tgl2)"
   ]
  },
  {
   "cell_type": "code",
   "execution_count": null,
   "metadata": {},
   "outputs": [],
   "source": []
  }
 ],
 "metadata": {
  "kernelspec": {
   "display_name": "default",
   "language": "python",
   "name": "python3"
  },
  "language_info": {
   "codemirror_mode": {
    "name": "ipython",
    "version": 3
   },
   "file_extension": ".py",
   "mimetype": "text/x-python",
   "name": "python",
   "nbconvert_exporter": "python",
   "pygments_lexer": "ipython3",
   "version": "3.12.8"
  }
 },
 "nbformat": 4,
 "nbformat_minor": 2
}
