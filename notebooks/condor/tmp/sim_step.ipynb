{
 "cells": [
  {
   "cell_type": "code",
   "execution_count": null,
   "metadata": {},
   "outputs": [],
   "source": [
    "%load_ext autoreload\n",
    "%autoreload 2"
   ]
  },
  {
   "cell_type": "code",
   "execution_count": null,
   "metadata": {},
   "outputs": [],
   "source": [
    "import genjax\n",
    "genjax.pretty()"
   ]
  },
  {
   "cell_type": "code",
   "execution_count": null,
   "metadata": {},
   "outputs": [],
   "source": [
    "## Load a video ##\n",
    "\n",
    "import condorgmm\n",
    "import condorgmm.data as data\n",
    "\n",
    "video = (\n",
    "    data.YCBVVideo.training_scene(2)\n",
    "    .downscale(2)\n",
    ")\n",
    "\n",
    "import matplotlib.pyplot as plt\n",
    "plt.imshow(video[1].rgb)"
   ]
  },
  {
   "cell_type": "code",
   "execution_count": null,
   "metadata": {},
   "outputs": [],
   "source": [
    "import rerun as rr"
   ]
  },
  {
   "cell_type": "code",
   "execution_count": null,
   "metadata": {},
   "outputs": [],
   "source": [
    "import condorgmm.condor.interface.camera_tracking as ct\n",
    "\n",
    "frame=video[0]\n",
    "n_gaussians=300\n",
    "camera_pose_world_frame=condorgmm.Pose(video[0].camera_pose)\n",
    "\n",
    "# takes <3 seconds to run after jitting\n",
    "gmm, ccts, hypers = ct.initialize(frame, n_gaussians, camera_pose_world_frame, get_hypers=True)"
   ]
  },
  {
   "cell_type": "code",
   "execution_count": null,
   "metadata": {},
   "outputs": [],
   "source": [
    "import jax\n",
    "from condorgmm.condor.model.model import step_model\n",
    "\n",
    "@jax.jit\n",
    "def do_sim(state, hypers):\n",
    "    tr = step_model.simulate(\n",
    "        jax.random.key(0),\n",
    "        (\n",
    "            state,\n",
    "            hypers\n",
    "        )\n",
    "    )\n",
    "    return tr.get_retval()"
   ]
  },
  {
   "cell_type": "code",
   "execution_count": null,
   "metadata": {},
   "outputs": [],
   "source": [
    "import jax.numpy as jnp\n",
    "\n",
    "def _f(x):\n",
    "    return jnp.array(x, dtype=jnp.float32)\n",
    "\n",
    "st2 = do_sim(\n",
    "    ccts.state.replace({\"scene\": {\"background_rigidity\": jnp.array(.01, dtype=float)}}),\n",
    "    hypers.replace(\n",
    "        xyz_cov_evolution_pcnt=jnp.array(20., dtype=float),\n",
    "        alpha_multiplier_for_evolved_gaussian=jnp.array(40., dtype=float),\n",
    "        target_rgb_mean_evolution_variance=_f(10.0) ** 2,\n",
    "    )\n",
    ")"
   ]
  },
  {
   "cell_type": "code",
   "execution_count": null,
   "metadata": {},
   "outputs": [],
   "source": [
    "from condorgmm.condor.rerun import log_state\n",
    "import numpy as np\n",
    "import rerun as rr\n",
    "condorgmm.rr_init(\"condor2/frame0_00\")\n",
    "rr.set_time_sequence(\"frame\", 0)\n",
    "log_state(ccts.state, hypers)\n",
    "rr.log(\"depth_img/observation\", rr.DepthImage(np.array(frame.depth)))\n",
    "rr.log(\"depth_img/inferred\", rr.DepthImage(np.array(ccts.state.datapoints.value.xyz[..., 2].reshape(frame.depth.shape))))"
   ]
  },
  {
   "cell_type": "code",
   "execution_count": null,
   "metadata": {},
   "outputs": [],
   "source": [
    "rr.set_time_sequence(\"frame\", 1)\n",
    "log_state(st2, hypers)"
   ]
  },
  {
   "cell_type": "code",
   "execution_count": null,
   "metadata": {},
   "outputs": [],
   "source": []
  }
 ],
 "metadata": {
  "kernelspec": {
   "display_name": "default",
   "language": "python",
   "name": "python3"
  },
  "language_info": {
   "codemirror_mode": {
    "name": "ipython",
    "version": 3
   },
   "file_extension": ".py",
   "mimetype": "text/x-python",
   "name": "python",
   "nbconvert_exporter": "python",
   "pygments_lexer": "ipython3",
   "version": "3.12.8"
  }
 },
 "nbformat": 4,
 "nbformat_minor": 2
}
