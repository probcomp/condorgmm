{
 "cells": [
  {
   "cell_type": "code",
   "execution_count": null,
   "metadata": {},
   "outputs": [],
   "source": [
    "%load_ext autoreload\n",
    "%autoreload 2"
   ]
  },
  {
   "cell_type": "code",
   "execution_count": null,
   "metadata": {},
   "outputs": [],
   "source": [
    "import jax.random as r\n",
    "from jax.random import key as prngkey\n",
    "import jax.numpy as jnp\n",
    "from condorgmm.condor.types import Intrinsics, Pose\n",
    "from condorgmm.condor.geometry import xyz_to_cameraxyd, xyz_from_cameraxyd, find_aligning_pose\n",
    "import pytest"
   ]
  },
  {
   "cell_type": "code",
   "execution_count": null,
   "metadata": {},
   "outputs": [],
   "source": [
    "def _generate_zero_error_pose_alignment_problem(key):\n",
    "    k1, k2, k3, k4, k5 = r.split(key, 5)\n",
    "    xyz_0 = r.uniform(k1, shape=(100, 3), minval=-10.0, maxval=10.0)\n",
    "    pose_position = r.uniform(k2, shape=(3,), minval=-10.0, maxval=10.0)\n",
    "    quat = r.normal(k3, shape=(4,))\n",
    "    quat = quat / jnp.linalg.norm(quat)\n",
    "    pose = Pose(position=pose_position, quaternion=quat)\n",
    "    xyz_1 = pose.apply(xyz_0)\n",
    "    \n",
    "    # randomly mask out 20%\n",
    "    mask = r.bernoulli(k4, p=1.0, shape=(100,))\n",
    "    xyz_1 = jnp.where(\n",
    "        mask[:, None],\n",
    "        xyz_1,\n",
    "        r.uniform(k5, shape=(100, 3), minval=-10.0, maxval=10.0)\n",
    "    )\n",
    "\n",
    "    return xyz_0, xyz_1, mask, pose\n"
   ]
  },
  {
   "cell_type": "code",
   "execution_count": null,
   "metadata": {},
   "outputs": [],
   "source": [
    "key = r.key(0)\n",
    "xyz_0, xyz_1, mask, pose = _generate_zero_error_pose_alignment_problem(key)"
   ]
  },
  {
   "cell_type": "code",
   "execution_count": null,
   "metadata": {},
   "outputs": [],
   "source": [
    "inferred_pose = find_aligning_pose(xyz_0, xyz_1, mask)\n",
    "print(pose)\n",
    "print(inferred_pose)"
   ]
  },
  {
   "cell_type": "code",
   "execution_count": null,
   "metadata": {},
   "outputs": [],
   "source": [
    "jnp.linalg.norm(inferred_pose.apply(xyz_0) - xyz_1)"
   ]
  },
  {
   "cell_type": "code",
   "execution_count": null,
   "metadata": {},
   "outputs": [],
   "source": []
  }
 ],
 "metadata": {
  "kernelspec": {
   "display_name": "default",
   "language": "python",
   "name": "python3"
  },
  "language_info": {
   "codemirror_mode": {
    "name": "ipython",
    "version": 3
   },
   "file_extension": ".py",
   "mimetype": "text/x-python",
   "name": "python",
   "nbconvert_exporter": "python",
   "pygments_lexer": "ipython3",
   "version": "3.12.9"
  }
 },
 "nbformat": 4,
 "nbformat_minor": 2
}
