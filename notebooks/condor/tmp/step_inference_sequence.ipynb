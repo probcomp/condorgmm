{
 "cells": [
  {
   "cell_type": "code",
   "execution_count": null,
   "metadata": {},
   "outputs": [],
   "source": [
    "%load_ext autoreload\n",
    "%autoreload 2"
   ]
  },
  {
   "cell_type": "code",
   "execution_count": null,
   "metadata": {},
   "outputs": [],
   "source": [
    "import jax\n",
    "import jax.numpy as jnp\n",
    "import genjax\n",
    "genjax.pretty()"
   ]
  },
  {
   "cell_type": "code",
   "execution_count": null,
   "metadata": {},
   "outputs": [],
   "source": [
    "## Load a video ##\n",
    "\n",
    "import condorgmm\n",
    "import condorgmm.data as data\n",
    "\n",
    "video = (\n",
    "    data.YCBVVideo.training_scene(2)\n",
    "    .downscale(4)\n",
    ")\n",
    "\n",
    "import matplotlib.pyplot as plt\n",
    "plt.imshow(video[1].rgb)"
   ]
  },
  {
   "cell_type": "code",
   "execution_count": null,
   "metadata": {},
   "outputs": [],
   "source": [
    "video[1].rgb.shape"
   ]
  },
  {
   "cell_type": "code",
   "execution_count": null,
   "metadata": {},
   "outputs": [],
   "source": [
    "from condorgmm.condor.interface.camera_tracking import initialize, update, slow_config\n",
    "import rerun as rr\n",
    "from condorgmm.condor.rerun import log_state\n",
    "from tqdm import tqdm\n",
    "import condorgmm\n",
    "\n",
    "condorgmm.rr_init(\"step_inference_sequence_02\")"
   ]
  },
  {
   "cell_type": "code",
   "execution_count": null,
   "metadata": {},
   "outputs": [],
   "source": []
  },
  {
   "cell_type": "code",
   "execution_count": null,
   "metadata": {},
   "outputs": [],
   "source": [
    "cfg = slow_config.replace(\n",
    "    do_pose_update=True,\n",
    "    step_n_sweeps_phase_1=10,\n",
    "    step_n_sweeps_phase_2=20,\n",
    ")"
   ]
  },
  {
   "cell_type": "code",
   "execution_count": null,
   "metadata": {},
   "outputs": [],
   "source": [
    "_, ccts0 = initialize(\n",
    "    video[0],\n",
    "    condorgmm.Pose(video[0].camera_pose),\n",
    "    cfg,\n",
    "    log=False\n",
    ")"
   ]
  },
  {
   "cell_type": "code",
   "execution_count": null,
   "metadata": {},
   "outputs": [],
   "source": [
    "\n",
    "log_state(ccts0.state, ccts0.hypers)"
   ]
  },
  {
   "cell_type": "code",
   "execution_count": null,
   "metadata": {},
   "outputs": [],
   "source": [
    "fr = 20\n",
    "\n",
    "_, ccts, meta = update(video[fr], condorgmm.Pose(video[0].camera_pose), ccts0, cfg, log=True)"
   ]
  },
  {
   "cell_type": "code",
   "execution_count": null,
   "metadata": {},
   "outputs": [],
   "source": [
    "# Plot evolution parameters over inference steps\n",
    "from matplotlib.ticker import FuncFormatter, LogLocator, MaxNLocator\n",
    "import jax.numpy as jnp\n",
    "import matplotlib.pyplot as plt\n",
    "import jax\n",
    "\n",
    "def plot_evolution_param(param_name, *, miny=None, ax=None):\n",
    "    def get_value(i):\n",
    "        params = meta.visited_states.states[i].matter.background_evolution_params\n",
    "        return getattr(params, param_name).value\n",
    "    \n",
    "    xs = jnp.arange(len(meta.visited_states.states))\n",
    "    \n",
    "    if ax is None:\n",
    "        fig, ax = plt.subplots(figsize=(10, 4))\n",
    "    else:\n",
    "        fig = ax.figure\n",
    "    \n",
    "    values = jax.vmap(get_value)(xs)\n",
    "    if miny is not None:\n",
    "        values = values - miny\n",
    "    ax.plot(xs, values, label=param_name)\n",
    "    \n",
    "    ax.set_xlabel('Inference Step')\n",
    "    ylabel = param_name\n",
    "    ax.set_ylabel(ylabel)\n",
    "    \n",
    "    ax.set_yscale('log')\n",
    "    if miny is not None:\n",
    "        formatter = FuncFormatter(lambda y, _: f'{miny} + 10^{{{jnp.log10(y):.2f}}}')\n",
    "        ax.yaxis.set_major_formatter(formatter)\n",
    "\n",
    "    ax.set_title(f'{param_name} over Inference Steps')\n",
    "    ax.legend()\n",
    "    \n",
    "    return ax\n",
    "\n",
    "# Create a shared plot with four subplots for the evolution parameters\n",
    "fig, ax = plt.subplots(4, 1, figsize=(10, 8))\n",
    "\n",
    "# Plot each evolution parameter\n",
    "plot_evolution_param('prob_gaussian_is_new', ax=ax[0])\n",
    "plot_evolution_param('xyz_cov_pcnt', miny=2., ax=ax[1])  # Subtract 2 from xyz_cov_pcnt\n",
    "plot_evolution_param('rgb_var_pcnt', ax=ax[2])\n",
    "plot_evolution_param('target_xyz_mean_std', ax=ax[3])\n",
    "\n",
    "plt.tight_layout()\n",
    "plt.show()\n",
    "\n",
    "# Check if any parameters hit their domain boundaries\n",
    "from condorgmm.condor.types import FloatFromDiscreteSet\n",
    "visited_evolution_param_values = meta.visited_states.states.matter.background_evolution_params\n",
    "for (param_name, value) in visited_evolution_param_values.__dict__.items():\n",
    "    if isinstance(value, FloatFromDiscreteSet):\n",
    "        dom_size = len(value.domain)\n",
    "        assert jnp.all(value.idx != 0), f\"Parameter {param_name} hit the bottom of its range during inference.\"\n",
    "        assert jnp.all(value.idx != dom_size - 1), f\"Parameter {param_name} hit the top of its range during inference.\""
   ]
  },
  {
   "cell_type": "code",
   "execution_count": null,
   "metadata": {},
   "outputs": [],
   "source": [
    "condorgmm.rr_init(\"tmp\")\n",
    "\n",
    "mask = ccts0.state.gaussian_has_assoc_mask\n",
    "rr.log(\"frame0\", rr.Points3D(\n",
    "    ccts0.state.gaussians.xyz[mask],\n",
    "    colors=ccts0.state.gaussians.rgb[mask] / 255,\n",
    "))\n",
    "rr.log(\"step\", rr.Points3D(\n",
    "    meta.visited_states.states[20].gaussians.xyz[mask],\n",
    "    colors=meta.visited_states.states[20].gaussians.rgb[mask] / 255,\n",
    "))\n",
    "# Draw lines connecting corresponding points between frame0 and step\n",
    "mask = ccts0.state.gaussian_has_assoc_mask\n",
    "xyz0 = ccts0.state.gaussians.xyz[mask]\n",
    "xyz1 = meta.visited_states.states[20].gaussians.xyz[mask]\n",
    "\n",
    "rr.log(\"lines2\", rr.LineStrips3D(\n",
    "    [jnp.concatenate([xyz0[i:i+1], xyz1[i:i+1]]) for i in range(len(xyz0))],\n",
    "    colors=jnp.array([[0.5, 0.5, 0.5]]),\n",
    "))\n"
   ]
  },
  {
   "cell_type": "code",
   "execution_count": null,
   "metadata": {},
   "outputs": [],
   "source": [
    "jnp.stack([xyz0, xyz1, jnp.full_like(xyz0, jnp.nan)], axis=1).reshape(-1, 3)"
   ]
  },
  {
   "cell_type": "code",
   "execution_count": null,
   "metadata": {},
   "outputs": [],
   "source": [
    "for (i, label) in enumerate(meta.visited_states.all_labels):\n",
    "    if i % 5 != 0:\n",
    "        continue\n",
    "    rr.set_time_sequence(\"inference_step\", i+1)\n",
    "    log_state(meta.visited_states.states[i], ccts.hypers, log_in_world_frame=True)\n",
    "    condorgmm.rr_log_posquat(\n",
    "        meta.visited_states.states[i].scene.transform_World_Camera.posquat,\n",
    "        channel=\"inferred_camera_pose\"\n",
    "    )\n",
    "    rr.log(\"inference_move\", rr.TextDocument(label))\n",
    "    rr.log(\"depth_img/observation\", rr.DepthImage(video[fr].depth))\n",
    "    rr.log(\"depth_img/inferred\", rr.DepthImage(ccts.state.datapoints.value.xyz[..., 2].reshape(video[fr].depth.shape)))\n",
    "    condorgmm.rr_log_pose(condorgmm.Pose(video[fr].camera_pose), \"gt_pose\")"
   ]
  },
  {
   "cell_type": "code",
   "execution_count": null,
   "metadata": {},
   "outputs": [],
   "source": [
    "meta.visited_states.states.scene.transform_World_Camera"
   ]
  },
  {
   "cell_type": "code",
   "execution_count": null,
   "metadata": {},
   "outputs": [],
   "source": []
  },
  {
   "cell_type": "code",
   "execution_count": null,
   "metadata": {},
   "outputs": [],
   "source": []
  },
  {
   "cell_type": "code",
   "execution_count": null,
   "metadata": {},
   "outputs": [],
   "source": []
  },
  {
   "cell_type": "code",
   "execution_count": null,
   "metadata": {},
   "outputs": [],
   "source": []
  },
  {
   "cell_type": "code",
   "execution_count": null,
   "metadata": {},
   "outputs": [],
   "source": [
    "sts = meta.visited_states.states\n",
    "jax.vmap(lambda st: st.n_assocs_per_gaussian[83])(sts)"
   ]
  },
  {
   "cell_type": "code",
   "execution_count": null,
   "metadata": {},
   "outputs": [],
   "source": []
  },
  {
   "cell_type": "code",
   "execution_count": null,
   "metadata": {},
   "outputs": [],
   "source": []
  },
  {
   "cell_type": "code",
   "execution_count": null,
   "metadata": {},
   "outputs": [],
   "source": [
    "import jax.numpy as jnp\n",
    "\n",
    "i = 2\n",
    "sts = meta.visited_states.states\n",
    "\n",
    "gi = 8\n",
    "\n",
    "# jnp.logical_and(\n",
    "#     sts[i].gaussians.origin != sts[i+1].gaussians.origin,\n",
    "#     sts[i].gaussian_has_assoc_mask\n",
    "# )\n",
    "\n",
    "sts[i].n_assocs_per_gaussian[gi]"
   ]
  },
  {
   "cell_type": "code",
   "execution_count": null,
   "metadata": {},
   "outputs": [],
   "source": []
  }
 ],
 "metadata": {
  "kernelspec": {
   "display_name": "default",
   "language": "python",
   "name": "python3"
  },
  "language_info": {
   "codemirror_mode": {
    "name": "ipython",
    "version": 3
   },
   "file_extension": ".py",
   "mimetype": "text/x-python",
   "name": "python",
   "nbconvert_exporter": "python",
   "pygments_lexer": "ipython3",
   "version": "3.12.9"
  }
 },
 "nbformat": 4,
 "nbformat_minor": 2
}
