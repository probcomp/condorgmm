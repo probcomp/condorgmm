{
 "cells": [
  {
   "cell_type": "code",
   "execution_count": null,
   "metadata": {},
   "outputs": [],
   "source": [
    "%load_ext autoreload\n",
    "%autoreload 2"
   ]
  },
  {
   "cell_type": "code",
   "execution_count": null,
   "metadata": {},
   "outputs": [],
   "source": [
    "from jax.random import key as prngkey\n",
    "import jax.numpy as jnp\n",
    "import condorgmm.condor.model.frame0 as frame0\n",
    "from condorgmm.condor.config import DEFAULT_HYPERPARAMS\n",
    "from condorgmm.condor.types import CondorGMMState\n",
    "from condorgmm.condor.rerun import log_state\n",
    "import genjax\n",
    "genjax.pretty()"
   ]
  },
  {
   "cell_type": "code",
   "execution_count": null,
   "metadata": {},
   "outputs": [],
   "source": [
    "hypers = DEFAULT_HYPERPARAMS.replace(\n",
    "    n_gaussians=20,\n",
    "    datapoint_mask=jnp.ones(4_000, dtype=bool),\n",
    ")\n",
    "tr = frame0.init_model.simulate(prngkey(0), (hypers,))"
   ]
  },
  {
   "cell_type": "code",
   "execution_count": null,
   "metadata": {},
   "outputs": [],
   "source": [
    "import condorgmm\n",
    "condorgmm.rr_init(\"condor2_sim_00\")\n",
    "log_state(tr.get_retval(), hypers)"
   ]
  },
  {
   "cell_type": "code",
   "execution_count": null,
   "metadata": {},
   "outputs": [],
   "source": [
    "import rerun as rr\n",
    "rr.log(\"1_cm_radius_reference\", rr.Ellipsoids3D(\n",
    "    half_sizes=jnp.array([[1, 1, 1]]) * 0.01,\n",
    "    centers = jnp.array([[0, 0, 0]]),\n",
    "    quaternions = jnp.array([[0, 0, 0, 1]]),\n",
    "    colors=jnp.array([[0, 0, 0]])\n",
    "))"
   ]
  },
  {
   "cell_type": "code",
   "execution_count": null,
   "metadata": {},
   "outputs": [],
   "source": []
  }
 ],
 "metadata": {
  "kernelspec": {
   "display_name": "default",
   "language": "python",
   "name": "python3"
  },
  "language_info": {
   "codemirror_mode": {
    "name": "ipython",
    "version": 3
   },
   "file_extension": ".py",
   "mimetype": "text/x-python",
   "name": "python",
   "nbconvert_exporter": "python",
   "pygments_lexer": "ipython3",
   "version": "3.12.8"
  }
 },
 "nbformat": 4,
 "nbformat_minor": 2
}
