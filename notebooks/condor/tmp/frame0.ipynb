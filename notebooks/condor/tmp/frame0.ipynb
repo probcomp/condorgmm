{
 "cells": [
  {
   "cell_type": "code",
   "execution_count": null,
   "metadata": {},
   "outputs": [],
   "source": [
    "%load_ext autoreload\n",
    "%autoreload 2"
   ]
  },
  {
   "cell_type": "code",
   "execution_count": null,
   "metadata": {},
   "outputs": [],
   "source": [
    "import genjax\n",
    "genjax.pretty()"
   ]
  },
  {
   "cell_type": "code",
   "execution_count": null,
   "metadata": {},
   "outputs": [],
   "source": [
    "## Load a video ##\n",
    "\n",
    "import condorgmm\n",
    "import condorgmm.data as data\n",
    "\n",
    "video = (\n",
    "    data.YCBVVideo.training_scene(1)\n",
    "    .downscale(4)\n",
    ")\n",
    "\n",
    "import matplotlib.pyplot as plt\n",
    "import jax\n",
    "plt.imshow(video[1].rgb)"
   ]
  },
  {
   "cell_type": "markdown",
   "metadata": {},
   "source": [
    "## Visualize the sequence of states visited by inference"
   ]
  },
  {
   "cell_type": "code",
   "execution_count": null,
   "metadata": {},
   "outputs": [],
   "source": [
    "from condorgmm.condor.interface.camera_tracking import initialize, fast_config\n",
    "\n",
    "frame=video[0]\n",
    "n_gaussians=100\n",
    "camera_pose_world_frame=condorgmm.Pose(video[0].camera_pose)\n",
    "import jax\n",
    "gmm, ccts, meta = initialize(\n",
    "    frame,\n",
    "    camera_pose_world_frame,\n",
    "    fast_config.replace(\n",
    "        n_gaussians=n_gaussians,\n",
    "        n_sweeps_per_phase=(20, 20, 20, 100)\n",
    "    ),\n",
    "    log=True, key=jax.random.key(101),\n",
    ")\n",
    "hypers = ccts.hypers"
   ]
  },
  {
   "cell_type": "code",
   "execution_count": null,
   "metadata": {},
   "outputs": [],
   "source": [
    "import jax.numpy as jnp\n",
    "from condorgmm.condor.types import FloatFromDiscreteSet\n",
    "visited_global_param_values = meta.visited_states.states.matter.background_initialization_params\n",
    "for (param_name, value) in visited_global_param_values.__dict__.items():\n",
    "    if isinstance(value, FloatFromDiscreteSet):\n",
    "        dom_size = len(value.domain)\n",
    "        assert jnp.all(value.idx != 0), f\"Parameter {param_name} hit the bottom of its range during inference.\"\n",
    "        assert jnp.all(value.idx != dom_size - 1), f\"Parameter {param_name} hit the top of its range during inference.\"\n"
   ]
  },
  {
   "cell_type": "markdown",
   "metadata": {},
   "source": [
    "When things go wrong in inference, a very common consequence is that all the datapoints end up associated with the same Gaussian.  By displaying the datapoint->Gaussian association, we can get a quick read on whether inference worked."
   ]
  },
  {
   "cell_type": "code",
   "execution_count": null,
   "metadata": {},
   "outputs": [],
   "source": [
    "meta.visited_states.states.datapoints.value.gaussian_idx"
   ]
  },
  {
   "cell_type": "code",
   "execution_count": null,
   "metadata": {},
   "outputs": [],
   "source": [
    "from matplotlib.ticker import FuncFormatter, LogLocator, MaxNLocator\n",
    "import jax.numpy as jnp\n",
    "import matplotlib.pyplot as plt\n",
    "import jax\n",
    "\n",
    "def plot_param(param_name, *, idxs=(), miny=None, ax=None, colors=None):\n",
    "    def get_value(i, idx=None):\n",
    "        params = meta.visited_states.states[i].matter.background_initialization_params\n",
    "        value = getattr(params, param_name).value\n",
    "        if idx is not None:\n",
    "            return value[idx]\n",
    "        return value\n",
    "    \n",
    "    xs = jnp.arange(len(meta.visited_states.states))\n",
    "    \n",
    "    if ax is None:\n",
    "        fig, ax = plt.subplots(figsize=(10, 4))\n",
    "    else:\n",
    "        fig = ax.figure\n",
    "    \n",
    "    if len(idxs) > 0:\n",
    "        values_list = []\n",
    "        for i, idx in enumerate(idxs):\n",
    "            values = jax.vmap(lambda i: get_value(i, idx))(xs)\n",
    "            if miny is not None:\n",
    "                values = values - miny\n",
    "            values_list.append(values)\n",
    "            color = colors[i] if colors is not None and i < len(colors) else None\n",
    "            ax.plot(xs, values, label=f'{param_name}[{idx}]', color=color)\n",
    "        all_values = jnp.concatenate(values_list)  # Combine for range computation\n",
    "    else:\n",
    "        values = jax.vmap(get_value)(xs)\n",
    "        if miny is not None:\n",
    "            values = values - miny\n",
    "        ax.plot(xs, values, label=param_name)\n",
    "        all_values = values  # Single variable range\n",
    "    \n",
    "    ymin, ymax = jnp.min(all_values), jnp.max(all_values)\n",
    "    \n",
    "    ax.set_xlabel('Inference Step')\n",
    "    ylabel = param_name\n",
    "    ax.set_ylabel(ylabel)\n",
    "    \n",
    "    ax.set_yscale('log')\n",
    "    if miny is not None:\n",
    "        formatter = FuncFormatter(lambda y, _: f'{miny} + 10^{{{jnp.log10(y):.2f}}}')\n",
    "        ax.yaxis.set_major_formatter(formatter)\n",
    "\n",
    "    ax.set_title(f'{param_name} over Inference Steps')\n",
    "    ax.legend()\n",
    "    \n",
    "    return ax\n",
    "\n",
    "# Create a shared plot with six subplots\n",
    "fig, ax = plt.subplots(6, 1, figsize=(10, 8))\n",
    "\n",
    "# Plot the first parameter\n",
    "plot_param('xyz_cov_pcnt', miny=2., ax=ax[0])\n",
    "\n",
    "# Plot the second parameter\n",
    "plot_param('xyz_cov_isotropic_prior_stds', idxs=(0, 1, 2), ax=ax[1])\n",
    "\n",
    "# # Plot the third parameter\n",
    "plot_param('xyz_mean_pcnt', ax=ax[2])\n",
    "\n",
    "# Plot the fourth parameter with colors\n",
    "plot_param('rgb_var_n_pseudo_obs', idxs=(0, 1, 2), ax=ax[3], colors=['red', 'green', 'blue'])\n",
    "\n",
    "# Plot the fifth parameter with colors\n",
    "plot_param('rgb_var_pseudo_sample_stds', idxs=(0, 1, 2), ax=ax[4], colors=['red', 'green', 'blue'])\n",
    "\n",
    "# Plot the sixth parameter with colors\n",
    "plot_param('rgb_mean_n_pseudo_obs', idxs=(0, 1, 2), ax=ax[5], colors=['red', 'green', 'blue'])\n",
    "\n",
    "plt.tight_layout()\n",
    "plt.show()\n"
   ]
  },
  {
   "cell_type": "markdown",
   "metadata": {},
   "source": [
    "Log to rerun."
   ]
  },
  {
   "cell_type": "code",
   "execution_count": null,
   "metadata": {},
   "outputs": [],
   "source": [
    "condorgmm.rr_init(\"condor2/frame0_02\")"
   ]
  },
  {
   "cell_type": "code",
   "execution_count": null,
   "metadata": {},
   "outputs": [],
   "source": [
    "from condorgmm.condor.rerun import log_state\n",
    "import rerun as rr\n",
    "for (i, label) in enumerate(meta.visited_states.all_labels):\n",
    "    if i % 10 != 0 and i > 40:\n",
    "        continue\n",
    "\n",
    "    rr.set_time_sequence(\"inference_step\", i)\n",
    "    log_state(meta.visited_states.states[i], hypers)\n",
    "    rr.log(\"inference_move\", rr.TextDocument(label))\n",
    "    rr.log(\"depth_img/observation\", rr.DepthImage(frame.depth))\n",
    "    rr.log(\"depth_img/inferred\", rr.DepthImage(meta.visited_states.states[i].datapoints.value.xyz[..., 2].reshape(frame.depth.shape)))"
   ]
  },
  {
   "cell_type": "code",
   "execution_count": null,
   "metadata": {},
   "outputs": [],
   "source": [
    "ccts.state.matter.background_initialization_params"
   ]
  },
  {
   "cell_type": "markdown",
   "metadata": {},
   "source": [
    "## Runtime test"
   ]
  },
  {
   "cell_type": "code",
   "execution_count": null,
   "metadata": {},
   "outputs": [],
   "source": [
    "# JIT\n",
    "# initialize(frame, n_gaussians, camera_pose_world_frame, n_sweeps=100)"
   ]
  },
  {
   "cell_type": "code",
   "execution_count": null,
   "metadata": {},
   "outputs": [],
   "source": [
    "# Time\n",
    "# initialize(frame, n_gaussians, camera_pose_world_frame, n_sweeps=100)\n",
    "None"
   ]
  },
  {
   "cell_type": "code",
   "execution_count": null,
   "metadata": {},
   "outputs": [],
   "source": []
  }
 ],
 "metadata": {
  "kernelspec": {
   "display_name": "default",
   "language": "python",
   "name": "python3"
  },
  "language_info": {
   "codemirror_mode": {
    "name": "ipython",
    "version": 3
   },
   "file_extension": ".py",
   "mimetype": "text/x-python",
   "name": "python",
   "nbconvert_exporter": "python",
   "pygments_lexer": "ipython3",
   "version": "3.12.8"
  }
 },
 "nbformat": 4,
 "nbformat_minor": 2
}
