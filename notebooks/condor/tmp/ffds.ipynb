{
 "cells": [
  {
   "cell_type": "code",
   "execution_count": null,
   "metadata": {},
   "outputs": [],
   "source": [
    "import jax\n",
    "import jax.numpy as jnp\n",
    "import numpy as np\n",
    "from genjax import Pytree\n",
    "from condorgmm.condor.utils import MyPytree, find_first_above\n",
    "from dataclasses import dataclass\n",
    "import genjax\n",
    "genjax.pretty()"
   ]
  },
  {
   "cell_type": "code",
   "execution_count": null,
   "metadata": {},
   "outputs": [],
   "source": [
    "@dataclass\n",
    "class _Domain:\n",
    "    values : jnp.ndarray\n",
    "    _numpy_values : np.ndarray\n",
    "\n",
    "    def __init__(self, values):\n",
    "        self.values = values\n",
    "        self._numpy_values = np.array(values)\n",
    "\n",
    "    def __eq__(self, other):\n",
    "        return bool(np.all(self._numpy_values == other._numpy_values))\n",
    "\n",
    "    def __hash__(self):\n",
    "        return hash(tuple(self._numpy_values))\n",
    "    \n",
    "\n",
    "@Pytree.dataclass\n",
    "class Domain(MyPytree):\n",
    "    _dom: _Domain = Pytree.static()\n",
    "\n",
    "    def __init__(self, values):\n",
    "        self._dom = _Domain(values)\n",
    "\n",
    "    def __len__(self):\n",
    "        return len(self._dom.values)\n",
    "\n",
    "    @property\n",
    "    def values(self):\n",
    "        return self._dom.values\n",
    "\n",
    "    @property\n",
    "    def discrete_float_values(self):\n",
    "        \"\"\"\n",
    "        A batched `FloatFromDiscreteSet` containing\n",
    "        each element in this domain.\n",
    "        \"\"\"\n",
    "        return jax.vmap(lambda idx: FloatFromDiscreteSet(idx=idx, domain=self))(\n",
    "            jnp.arange(self.values.shape[0])\n",
    "        )\n",
    "\n",
    "    def first_value_above(self, val) -> \"FloatFromDiscreteSet\":\n",
    "        \"\"\"\n",
    "        Return a `FloatFromDiscreteSet` for the smallest value\n",
    "        greater than or equal `val` in the domain.\n",
    "\n",
    "        If no such value exists, returns FloatFromDiscreteSet(-1, domain).\n",
    "        \"\"\"\n",
    "        idx = find_first_above(self.values, val)\n",
    "        return FloatFromDiscreteSet(idx=idx, domain=self)\n",
    "\n",
    "\n",
    "\n",
    "Domain(jnp.array([1., 2., 3.]))"
   ]
  },
  {
   "cell_type": "code",
   "execution_count": null,
   "metadata": {},
   "outputs": [],
   "source": [
    "@Pytree.dataclass\n",
    "class FloatFromDiscreteSet(MyPytree):\n",
    "    idx: int\n",
    "    domain: Domain = Pytree.static()\n",
    "\n",
    "    @property\n",
    "    def value(self):\n",
    "        return self.domain.values[self.idx]\n",
    "\n",
    "    @property\n",
    "    def shape(self):\n",
    "        return self.idx.shape\n",
    "\n",
    "    def tile(self, *tile_args, **tile_kwargs):\n",
    "        return FloatFromDiscreteSet(\n",
    "            idx=jnp.tile(self.idx, *tile_args, **tile_kwargs), domain=self.domain\n",
    "        )\n",
    "\n",
    "    def __eq__(self, other):\n",
    "        return self.domain == other.domain and jnp.all(\n",
    "            jnp.array(self.idx) == jnp.array(other.idx)\n",
    "        )"
   ]
  },
  {
   "cell_type": "code",
   "execution_count": null,
   "metadata": {},
   "outputs": [],
   "source": [
    "@genjax.Pytree.dataclass\n",
    "class UniformFromDomain(MyPytree, genjax.ExactDensity):\n",
    "    def sample(self, key, domain: Domain) -> FloatFromDiscreteSet:\n",
    "        idx = jax.random.randint(key, (), 0, len(domain))\n",
    "        return FloatFromDiscreteSet(idx=idx, domain=domain)\n",
    "    \n",
    "    def logpdf(self, val: FloatFromDiscreteSet, domain: Domain):\n",
    "        assert val.domain == domain\n",
    "        return -jnp.log(len(domain))\n",
    "    \n",
    "uniform_from_domain = UniformFromDomain()"
   ]
  },
  {
   "cell_type": "code",
   "execution_count": null,
   "metadata": {},
   "outputs": [],
   "source": [
    "values = jnp.array([1.0, 2.0, 3.0, 4.0])\n",
    "dom = Domain(values)\n",
    "dom2 = Domain(values + 1)\n",
    "jax.jit(lambda x, y: x == y)(dom, dom2)"
   ]
  },
  {
   "cell_type": "code",
   "execution_count": null,
   "metadata": {},
   "outputs": [],
   "source": [
    "sample = jax.jit(uniform_from_domain.sample)(jax.random.key(0), dom)\n",
    "jitted_logpdf = jax.jit(uniform_from_domain.logpdf)"
   ]
  },
  {
   "cell_type": "code",
   "execution_count": null,
   "metadata": {},
   "outputs": [],
   "source": [
    "jitted_logpdf(sample, dom2)"
   ]
  },
  {
   "cell_type": "code",
   "execution_count": null,
   "metadata": {},
   "outputs": [],
   "source": []
  }
 ],
 "metadata": {
  "kernelspec": {
   "display_name": "default",
   "language": "python",
   "name": "python3"
  },
  "language_info": {
   "codemirror_mode": {
    "name": "ipython",
    "version": 3
   },
   "file_extension": ".py",
   "mimetype": "text/x-python",
   "name": "python",
   "nbconvert_exporter": "python",
   "pygments_lexer": "ipython3",
   "version": "3.12.8"
  }
 },
 "nbformat": 4,
 "nbformat_minor": 2
}
