{
 "cells": [
  {
   "cell_type": "code",
   "execution_count": null,
   "metadata": {},
   "outputs": [],
   "source": [
    "%load_ext autoreload\n",
    "%autoreload 2"
   ]
  },
  {
   "cell_type": "code",
   "execution_count": null,
   "metadata": {},
   "outputs": [],
   "source": [
    "import genjax\n",
    "genjax.pretty()"
   ]
  },
  {
   "cell_type": "code",
   "execution_count": null,
   "metadata": {},
   "outputs": [],
   "source": [
    "import jax\n",
    "from jax.random import key as prngkey\n",
    "import jax.numpy as jnp\n",
    "from condorgmm.condor.pose import Pose\n",
    "import condorgmm.condor.model.model as model\n",
    "from condorgmm.condor.config import DEFAULT_HYPERPARAMS\n",
    "from condorgmm.condor.types import CondorGMMState, MyPytree, SingleKnownObjectSceneState\n",
    "import condorgmm\n",
    "from condorgmm.condor.rerun import log_state\n",
    "\n",
    "# init_model_simulate = (model.init_model.simulate)\n",
    "\n"
   ]
  },
  {
   "cell_type": "code",
   "execution_count": null,
   "metadata": {},
   "outputs": [],
   "source": [
    "# Generate an object model\n",
    "hypers = DEFAULT_HYPERPARAMS.replace(\n",
    "    n_gaussians=10,\n",
    "    datapoint_mask=jnp.ones(1, dtype=bool),\n",
    "    running_simulate=jnp.array(True, dtype=bool),\n",
    ")\n",
    "tr = model.init_model.simulate(prngkey(1), (hypers,))\n",
    "gaussians = tr.get_retval().gaussians"
   ]
  },
  {
   "cell_type": "code",
   "execution_count": null,
   "metadata": {},
   "outputs": [],
   "source": [
    "condorgmm.rr_init(\"objmodel_00\")\n",
    "log_state(tr.get_retval(), hypers)"
   ]
  },
  {
   "cell_type": "code",
   "execution_count": null,
   "metadata": {},
   "outputs": [],
   "source": [
    "# Generate a condorgmmScene with this as the object model\n",
    "scene = SingleKnownObjectSceneState(\n",
    "    transform_World_Camera=Pose.identity(),\n",
    "    transform_World_Object=Pose(jnp.array([500, 500, 500.]), jnp.array([0., 0., 0., 1.])),\n",
    "    background_rigidity = jnp.array(0.003, dtype=jnp.float32),\n",
    "    object_model=gaussians\n",
    ")\n",
    "hypers = DEFAULT_HYPERPARAMS.replace(\n",
    "    n_gaussians=100,\n",
    "    initial_scene=scene,\n",
    "    datapoint_mask=jnp.ones(1000, dtype=bool),\n",
    "    running_simulate=jnp.array(True, dtype=bool),\n",
    ")\n",
    "tr = model.init_model.simulate(prngkey(0), (hypers,))\n"
   ]
  },
  {
   "cell_type": "code",
   "execution_count": null,
   "metadata": {},
   "outputs": [],
   "source": [
    "from condorgmm.condor.model.model import get_object_model_gaussian_in_camera_frame, gaussian_is_background\n",
    "get_object_model_gaussian_in_camera_frame(91, scene, hypers)\n",
    "gaussian_is_background(89, hypers)"
   ]
  },
  {
   "cell_type": "code",
   "execution_count": null,
   "metadata": {},
   "outputs": [],
   "source": [
    "tr.get_retval().gaussians[85:95]"
   ]
  },
  {
   "cell_type": "code",
   "execution_count": null,
   "metadata": {},
   "outputs": [],
   "source": [
    "scene.transform_World_Camera.inv().pos"
   ]
  },
  {
   "cell_type": "code",
   "execution_count": null,
   "metadata": {},
   "outputs": [],
   "source": [
    "import rerun as rr\n",
    "condorgmm.rr_init(\"objmodel_01\")\n",
    "rr.set_time_sequence(\"frame\", 0)\n",
    "log_state(tr.get_retval(), hypers)"
   ]
  },
  {
   "cell_type": "code",
   "execution_count": null,
   "metadata": {},
   "outputs": [],
   "source": []
  },
  {
   "cell_type": "code",
   "execution_count": null,
   "metadata": {},
   "outputs": [],
   "source": [
    "step_jit = jax.jit(model.step_model.simulate)"
   ]
  },
  {
   "cell_type": "code",
   "execution_count": null,
   "metadata": {},
   "outputs": [],
   "source": [
    "hyp2 = hypers.replace(\n",
    "    object_pose_drift_std=jnp.array(100, dtype=float)\n",
    ")\n",
    "\n",
    "st = tr.get_retval()\n",
    "for i in range(100):\n",
    "    rr.set_time_sequence(\"frame\", i)\n",
    "    st = step_jit(prngkey(i), (st, hyp2)).get_retval()\n",
    "    log_state(st, hyp2)\n"
   ]
  },
  {
   "cell_type": "code",
   "execution_count": null,
   "metadata": {},
   "outputs": [],
   "source": [
    "rr.set_time_sequence(\"frame\", 1)\n",
    "log_state(tr2.get_retval(), hypers)"
   ]
  },
  {
   "cell_type": "code",
   "execution_count": null,
   "metadata": {},
   "outputs": [],
   "source": []
  }
 ],
 "metadata": {
  "kernelspec": {
   "display_name": "default",
   "language": "python",
   "name": "python3"
  },
  "language_info": {
   "codemirror_mode": {
    "name": "ipython",
    "version": 3
   },
   "file_extension": ".py",
   "mimetype": "text/x-python",
   "name": "python",
   "nbconvert_exporter": "python",
   "pygments_lexer": "ipython3",
   "version": "3.12.9"
  }
 },
 "nbformat": 4,
 "nbformat_minor": 2
}
