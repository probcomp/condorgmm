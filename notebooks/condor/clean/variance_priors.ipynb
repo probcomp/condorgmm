{
 "cells": [
  {
   "cell_type": "code",
   "execution_count": null,
   "metadata": {},
   "outputs": [],
   "source": [
    "%load_ext autoreload\n",
    "%autoreload 2"
   ]
  },
  {
   "cell_type": "code",
   "execution_count": null,
   "metadata": {},
   "outputs": [],
   "source": [
    "from condorgmm.condor.model.distributions.variance_priors import get_my_inverse_gamma_widget\n",
    "get_my_inverse_gamma_widget(plot_sqrt_x=True)"
   ]
  },
  {
   "cell_type": "code",
   "execution_count": null,
   "metadata": {},
   "outputs": [],
   "source": []
  },
  {
   "cell_type": "markdown",
   "metadata": {},
   "source": [
    "## Test out the prior on RGB (mean, var)"
   ]
  },
  {
   "cell_type": "code",
   "execution_count": null,
   "metadata": {},
   "outputs": [],
   "source": [
    "from genjax import gen\n",
    "import genjax\n",
    "import jax.numpy as jnp\n",
    "from condorgmm.condor.model.distributions.variance_priors import my_inverse_gamma\n",
    "import jax"
   ]
  },
  {
   "cell_type": "code",
   "execution_count": null,
   "metadata": {},
   "outputs": [],
   "source": [
    "# variance__n_pseudo_obs = 1\n",
    "# variance__pseudo_obs_var = 10**2 # pseudo std = 10\n",
    "# mean__n_pseudo_obs = 0.01\n",
    "variance__n_pseudo_obs = 2 * 1e-1\n",
    "variance__pseudo_obs_var = 0.3 ** 2\n",
    "mean__n_pseudo_obs = .5 * 1e-5\n",
    "\n",
    "@gen\n",
    "def generate_mean_var():\n",
    "    var = my_inverse_gamma(variance__n_pseudo_obs, variance__pseudo_obs_var) @ \"var\"\n",
    "    std = jnp.sqrt(var / mean__n_pseudo_obs)\n",
    "    val = genjax.normal(255 / 2, std) @ \"val\"\n",
    "    return (var, val)\n",
    "    \n",
    "var_samples, val_samples = jax.vmap(generate_mean_var())(jax.random.split(jax.random.key(0), 36))"
   ]
  },
  {
   "cell_type": "code",
   "execution_count": null,
   "metadata": {},
   "outputs": [],
   "source": [
    "import numpy as np\n",
    "\n",
    "import matplotlib.pyplot as plt\n",
    "\n",
    "fig, axes = plt.subplots(6, 6, figsize=(15, 15))\n",
    "\n",
    "for i, ax in enumerate(axes.flatten()):\n",
    "    var = var_samples[i]\n",
    "    val = val_samples[i]\n",
    "    std = np.sqrt(var)\n",
    "    x = np.linspace(val - 3*std, val + 3*std, 100)\n",
    "    y = jnp.exp(jax.vmap(lambda x: genjax.normal.logpdf(x, val, std))(x))\n",
    "    ax.plot(x, y)\n",
    "    ax.set_title(f'Var: {var:.2f}, Val: {val:.2f}')\n",
    "    ax.axvline(x=0, color='r', linestyle='--')\n",
    "    ax.axvline(x=255, color='r', linestyle='-')\n",
    "    ax.axvline(x=val, color='g', linestyle='-')\n",
    "    ax.grid(True)\n",
    "\n",
    "ax.set_xlim([-10, 265])\n",
    "plt.tight_layout()\n",
    "plt.show()"
   ]
  },
  {
   "cell_type": "code",
   "execution_count": null,
   "metadata": {},
   "outputs": [],
   "source": []
  },
  {
   "cell_type": "code",
   "execution_count": null,
   "metadata": {},
   "outputs": [],
   "source": [
    "from condorgmm.condor.model.distributions.variance_priors import get_my_inverse_gamma_widget\n",
    "get_my_inverse_gamma_widget(plot_sqrt_x=True)"
   ]
  },
  {
   "cell_type": "code",
   "execution_count": null,
   "metadata": {},
   "outputs": [],
   "source": []
  },
  {
   "cell_type": "markdown",
   "metadata": {},
   "source": [
    "## Test out the prior on XYZ (mean, var)"
   ]
  },
  {
   "cell_type": "code",
   "execution_count": null,
   "metadata": {},
   "outputs": [],
   "source": [
    "from condorgmm.condor.model.distributions.variance_priors import my_inverse_wishart"
   ]
  },
  {
   "cell_type": "code",
   "execution_count": null,
   "metadata": {},
   "outputs": [],
   "source": [
    "import condorgmm\n",
    "condorgmm.rr_init(\"conjugate_priors_00\")"
   ]
  },
  {
   "cell_type": "code",
   "execution_count": null,
   "metadata": {},
   "outputs": [],
   "source": [
    "xyz_cov_n_pseudo_obs = 1.\n",
    "xyz_pseudo_sample_cov = jnp.array([\n",
    "    [5, 0, 0],\n",
    "    [0, 5, 0],\n",
    "    [0, 0, 5]\n",
    "]) * 1e-3 # mm -> m\n",
    "xyz_mean_n_pseudo_obs = .01\n",
    "xyz_mean_center = jnp.array([0, 0, 0], dtype=float)\n",
    "\n",
    "def generate_mean_cov(key):\n",
    "    k1, k2 = jax.random.split(key)\n",
    "    cov = my_inverse_wishart.sample(k1, xyz_cov_n_pseudo_obs, xyz_pseudo_sample_cov)\n",
    "    xyz = genjax.mv_normal.sample(k2, xyz_mean_center, cov / xyz_mean_n_pseudo_obs)\n",
    "    return xyz, cov"
   ]
  },
  {
   "cell_type": "code",
   "execution_count": null,
   "metadata": {},
   "outputs": [],
   "source": [
    "from jax.scipy.spatial.transform import Rotation as Rot\n",
    "\n",
    "def cov_to_isotropic_and_quaternion(cov): # (3, 3)\n",
    "    # Eigen-decomposition\n",
    "    eigvals, eigvecs = jnp.linalg.eigh(cov)\n",
    "    \n",
    "    # Ensure positive eigenvalues\n",
    "    vars = jnp.maximum(eigvals, 0)\n",
    "\n",
    "    # Convert rotation matrix to quaternion\n",
    "    quat = Rot.from_matrix(eigvecs).as_quat()\n",
    "\n",
    "    return vars, quat\n",
    "\n",
    "def isotropic_and_quaternion_to_cov(vars, quat): # (3,); (4,)\n",
    "    rot = Rot.from_quat(quat).as_matrix()\n",
    "    cov = rot @ jnp.diag(vars) @ rot.T\n",
    "    return cov"
   ]
  },
  {
   "cell_type": "code",
   "execution_count": null,
   "metadata": {},
   "outputs": [],
   "source": [
    "import rerun as rr\n",
    "\n",
    "condorgmm.rr_init(\"conjugate_priors_01\")\n",
    "means, covs = jax.vmap(generate_mean_cov)(jax.random.split(jax.random.PRNGKey(0), 40))\n",
    "vars, quats = jax.vmap(cov_to_isotropic_and_quaternion)(covs)\n",
    "ellipses = rr.Ellipsoids3D(\n",
    "    half_sizes = jnp.sqrt(vars),\n",
    "    centers = means,\n",
    "    quaternions = quats,\n",
    ")\n",
    "rr.log(\"samples\", ellipses)\n",
    "rr.log(\"reference\", rr.Ellipsoids3D(\n",
    "    half_sizes=jnp.array([[1, 1, 1]]),\n",
    "    centers = jnp.array([[0, 0, 0]]),\n",
    "    quaternions = jnp.array([[0, 0, 0, 1]]),\n",
    "    colors=jnp.array([[0, 0, 0]])\n",
    "))"
   ]
  },
  {
   "cell_type": "code",
   "execution_count": null,
   "metadata": {},
   "outputs": [],
   "source": []
  },
  {
   "cell_type": "code",
   "execution_count": null,
   "metadata": {},
   "outputs": [],
   "source": []
  },
  {
   "cell_type": "code",
   "execution_count": null,
   "metadata": {},
   "outputs": [],
   "source": []
  }
 ],
 "metadata": {
  "kernelspec": {
   "display_name": "default",
   "language": "python",
   "name": "python3"
  },
  "language_info": {
   "codemirror_mode": {
    "name": "ipython",
    "version": 3
   },
   "file_extension": ".py",
   "mimetype": "text/x-python",
   "name": "python",
   "nbconvert_exporter": "python",
   "pygments_lexer": "ipython3",
   "version": "3.12.8"
  }
 },
 "nbformat": 4,
 "nbformat_minor": 2
}
