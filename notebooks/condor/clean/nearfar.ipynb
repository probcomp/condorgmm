{
 "cells": [
  {
   "cell_type": "code",
   "execution_count": null,
   "metadata": {},
   "outputs": [],
   "source": [
    "%load_ext autoreload\n",
    "%autoreload 2"
   ]
  },
  {
   "cell_type": "code",
   "execution_count": null,
   "metadata": {},
   "outputs": [],
   "source": [
    "import genjax\n",
    "genjax.pretty()"
   ]
  },
  {
   "cell_type": "code",
   "execution_count": null,
   "metadata": {},
   "outputs": [],
   "source": [
    "import condorgmm\n",
    "from condorgmm.utils.common import get_assets_path\n",
    "import condorgmm.data as data\n",
    "import numpy as np\n",
    "import matplotlib.pyplot as plt\n",
    "from matplotlib.animation import FuncAnimation\n",
    "from IPython.display import HTML\n",
    "fig, ax = plt.subplots()\n",
    "\n",
    "video = data.R3DVideo(get_assets_path() / \"nearfar.r3d\")\n",
    "frame_idxs = range(360, 840, 1)\n",
    "video = video.crop(0, 180, 16, 256).downscale(2)\n",
    "\n",
    "def update(idx):\n",
    "    ax.clear()\n",
    "    ax.imshow(video[frame_idxs[idx]].rgb)\n",
    "    ax.set_title(f\"Frame {frame_idxs[idx]}\")\n",
    "\n",
    "ani = FuncAnimation(fig, update, len(frame_idxs), repeat=False)\n",
    "# HTML(ani.to_jshtml())"
   ]
  },
  {
   "cell_type": "code",
   "execution_count": null,
   "metadata": {},
   "outputs": [],
   "source": [
    "from condorgmm.condor.interface.camera_tracking import initialize, update, fast_config\n",
    "import rerun as rr\n",
    "from condorgmm.condor.rerun import log_state\n",
    "from tqdm import tqdm\n",
    "import jax.numpy as jnp\n",
    "\n",
    "def _f(x):\n",
    "    return jnp.array(x, dtype=jnp.float32)\n",
    "\n",
    "hyp = fast_config.base_hypers.replace({\n",
    "    \"infer_background_evolution_params\": False,\n",
    "    \"default_background_evolution_params\": {\n",
    "        \"target_xyz_mean_std\": _f(0.01),\n",
    "        \"xyz_cov_pcnt\": _f(4),\n",
    "    }\n",
    "})\n",
    "cfg = fast_config.replace(base_hypers=hyp)\n",
    "scenedepth = jnp.sum(video[0].depth) / jnp.sum(video[0].depth > 0)\n",
    "scenepose = condorgmm.Pose(jnp.array([0., 0., scenedepth, 1., 0., 0., 0.], dtype=jnp.float32))"
   ]
  },
  {
   "cell_type": "code",
   "execution_count": null,
   "metadata": {},
   "outputs": [],
   "source": [
    "condorgmm.rr_init(\"condor_nonrigid_00\")"
   ]
  },
  {
   "cell_type": "code",
   "execution_count": null,
   "metadata": {},
   "outputs": [],
   "source": [
    "for i in tqdm(range(1000)):\n",
    "    if i % 10 == 0:\n",
    "        if i == 0:\n",
    "            _, ccts = initialize(video[i], scenepose, cfg)\n",
    "        else:\n",
    "            _, ccts = update(video[i], scenepose, ccts, cfg, get_gmm=False)\n",
    "\n",
    "        rr.set_time_sequence(\"frame\", i)\n",
    "        log_state(ccts.state, ccts.hypers)\n",
    "        rr.log(\"depth_img/observation\", rr.DepthImage(video[i].depth))\n",
    "        rr.log(\"depth_img/inferred\", rr.DepthImage(ccts.state.datapoints.value.xyz[..., 2].reshape(video[i].depth.shape)))"
   ]
  },
  {
   "cell_type": "code",
   "execution_count": null,
   "metadata": {},
   "outputs": [],
   "source": []
  }
 ],
 "metadata": {
  "kernelspec": {
   "display_name": "default",
   "language": "python",
   "name": "python3"
  },
  "language_info": {
   "codemirror_mode": {
    "name": "ipython",
    "version": 3
   },
   "file_extension": ".py",
   "mimetype": "text/x-python",
   "name": "python",
   "nbconvert_exporter": "python",
   "pygments_lexer": "ipython3",
   "version": "3.12.9"
  }
 },
 "nbformat": 4,
 "nbformat_minor": 2
}
