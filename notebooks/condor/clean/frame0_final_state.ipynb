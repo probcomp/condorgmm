{
 "cells": [
  {
   "cell_type": "code",
   "execution_count": null,
   "metadata": {},
   "outputs": [],
   "source": [
    "%load_ext autoreload\n",
    "%autoreload 2"
   ]
  },
  {
   "cell_type": "code",
   "execution_count": null,
   "metadata": {},
   "outputs": [],
   "source": [
    "import genjax\n",
    "genjax.pretty()"
   ]
  },
  {
   "cell_type": "code",
   "execution_count": null,
   "metadata": {},
   "outputs": [],
   "source": [
    "## Load a video ##\n",
    "\n",
    "import condorgmm\n",
    "import condorgmm.data as data\n",
    "\n",
    "video = (\n",
    "    data.YCBVVideo.training_scene(2)\n",
    "    .downscale(4)\n",
    ")\n",
    "\n",
    "import matplotlib.pyplot as plt\n",
    "plt.imshow(video[1].rgb)"
   ]
  },
  {
   "cell_type": "code",
   "execution_count": null,
   "metadata": {},
   "outputs": [],
   "source": [
    "import condorgmm.condor.interface.camera_tracking as ct\n",
    "\n",
    "frame=video[0]\n",
    "camera_pose_world_frame=condorgmm.Pose(video[0].camera_pose)\n",
    "\n",
    "# takes <3 seconds to run after jitting\n",
    "gmm, ccts = ct.initialize(\n",
    "    frame,\n",
    "    camera_pose_world_frame,\n",
    "    get_hypers=True\n",
    ")"
   ]
  },
  {
   "cell_type": "code",
   "execution_count": null,
   "metadata": {},
   "outputs": [],
   "source": [
    "from condorgmm.condor.rerun import log_state\n",
    "import rerun as rr\n",
    "condorgmm.rr_init(\"condor2/frame0_00\")\n",
    "log_state(ccts.state, ccts.hypers)\n",
    "rr.log(\"depth_img/observation\", rr.DepthImage(frame.depth))\n",
    "rr.log(\"depth_img/inferred\", rr.DepthImage(ccts.state.datapoints.value.xyz[..., 2].reshape(frame.depth.shape)))"
   ]
  },
  {
   "cell_type": "code",
   "execution_count": null,
   "metadata": {},
   "outputs": [],
   "source": []
  }
 ],
 "metadata": {
  "kernelspec": {
   "display_name": "default",
   "language": "python",
   "name": "python3"
  },
  "language_info": {
   "codemirror_mode": {
    "name": "ipython",
    "version": 3
   },
   "file_extension": ".py",
   "mimetype": "text/x-python",
   "name": "python",
   "nbconvert_exporter": "python",
   "pygments_lexer": "ipython3",
   "version": "3.12.8"
  }
 },
 "nbformat": 4,
 "nbformat_minor": 2
}
