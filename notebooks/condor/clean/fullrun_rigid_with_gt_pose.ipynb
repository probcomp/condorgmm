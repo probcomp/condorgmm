{
 "cells": [
  {
   "cell_type": "code",
   "execution_count": null,
   "metadata": {},
   "outputs": [],
   "source": [
    "%load_ext autoreload\n",
    "%autoreload 2"
   ]
  },
  {
   "cell_type": "code",
   "execution_count": null,
   "metadata": {},
   "outputs": [],
   "source": [
    "import genjax\n",
    "genjax.pretty()"
   ]
  },
  {
   "cell_type": "code",
   "execution_count": null,
   "metadata": {},
   "outputs": [],
   "source": [
    "## Load a video ##\n",
    "\n",
    "import condorgmm\n",
    "import condorgmm.data as data\n",
    "\n",
    "video = (\n",
    "    data.YCBVVideo.training_scene(2)\n",
    "    .downscale(4)\n",
    ")\n",
    "\n",
    "import matplotlib.pyplot as plt\n",
    "plt.imshow(video[1].rgb)"
   ]
  },
  {
   "cell_type": "code",
   "execution_count": null,
   "metadata": {},
   "outputs": [],
   "source": [
    "from condorgmm.condor.interface.camera_tracking import initialize, update\n",
    "import rerun as rr\n",
    "from condorgmm.condor.rerun import log_state\n",
    "from tqdm import tqdm\n",
    "\n",
    "condorgmm.rr_init(\"condor_with_gt_pose_00\")"
   ]
  },
  {
   "cell_type": "code",
   "execution_count": null,
   "metadata": {},
   "outputs": [],
   "source": [
    "for i in tqdm(range(1000)):\n",
    "    if i % 10 == 0:\n",
    "        if i == 0:\n",
    "            _, ccts = initialize(video[i], condorgmm.Pose(video[i].camera_pose))\n",
    "            _, ccts = initialize(video[i], condorgmm.Pose(video[i].camera_pose))\n",
    "        else:\n",
    "            _, ccts = update(video[i], condorgmm.Pose(video[i].camera_pose), ccts)\n",
    "\n",
    "        # rr.set_time_sequence(\"frame\", i)\n",
    "        # log_state(ccts.state, ccts.hypers)\n",
    "        # rr.log(\"depth_img/observation\", rr.DepthImage(video[i].depth))\n",
    "        # rr.log(\"depth_img/inferred\", rr.DepthImage(ccts.state.datapoints.value.xyz[..., 2].reshape(video[i].depth.shape)))"
   ]
  },
  {
   "cell_type": "code",
   "execution_count": null,
   "metadata": {},
   "outputs": [],
   "source": []
  }
 ],
 "metadata": {
  "kernelspec": {
   "display_name": "default",
   "language": "python",
   "name": "python3"
  },
  "language_info": {
   "codemirror_mode": {
    "name": "ipython",
    "version": 3
   },
   "file_extension": ".py",
   "mimetype": "text/x-python",
   "name": "python",
   "nbconvert_exporter": "python",
   "pygments_lexer": "ipython3",
   "version": "3.12.9"
  }
 },
 "nbformat": 4,
 "nbformat_minor": 2
}
